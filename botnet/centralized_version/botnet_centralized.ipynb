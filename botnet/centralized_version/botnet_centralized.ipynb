{
 "cells": [
  {
   "cell_type": "markdown",
   "source": [
    "# Botnet Logistic Regression Classifier\n",
    "\n",
    "Centralised version of readFile, normalize, train and accuracy functions. The algorithm converges during training, the cost value decreases asymptotically at each iteration. The final reported accuracy of 93.02% suggests that the model is performing well on the given dataset."
   ],
   "metadata": {
    "collapsed": false
   },
   "id": "c5e0bde84fd76f82"
  },
  {
   "cell_type": "markdown",
   "source": [
    "### Preprocessing\n",
    "\n",
    "The `readFile` function reads the data, parses each line by splitting it on commas, converts each value to a float, and then aggregates the data into a NumPy array. This array contains both features and labels (last column) of each data entry."
   ],
   "metadata": {
    "collapsed": false
   },
   "id": "7280d4610c0f3659"
  },
  {
   "cell_type": "code",
   "execution_count": 1,
   "id": "initial_id",
   "metadata": {
    "collapsed": true,
    "ExecuteTime": {
     "end_time": "2023-11-24T10:20:12.140411Z",
     "start_time": "2023-11-24T10:20:11.962103Z"
    }
   },
   "outputs": [],
   "source": [
    "import os\n",
    "import numpy as np\n",
    "\n",
    "def readFile(filename):\n",
    "    current_directory = os.getcwd()\n",
    "    parent_directory = os.path.dirname(current_directory)\n",
    "    data = []\n",
    "    with open(parent_directory + \"/\" + filename, \"r\") as file:\n",
    "        for line in file:\n",
    "            # Split the line into columns, convert each to float, and add to data list\n",
    "            # Note: The last column (label) is also converted to float for consistency in the array\n",
    "            cols = [float(x) for x in line.strip().split(\",\")]\n",
    "            data.append(cols)\n",
    "\n",
    "    data_array = np.array(data)\n",
    "\n",
    "    return data_array"
   ]
  },
  {
   "cell_type": "markdown",
   "source": [
    "### Normalizing\n",
    "\n",
    "The `normalize` function standardizes the feature columns of a NumPy array to have a mean of 0 and a standard deviation of 1, avoids division by zero for constant features, and then recombines these normalized features with their original labels."
   ],
   "metadata": {
    "collapsed": false
   },
   "id": "694d180c73827a58"
  },
  {
   "cell_type": "code",
   "execution_count": 2,
   "outputs": [],
   "source": [
    "def normalize(np_Xy):\n",
    "\n",
    "    # Extracting features (X) and labels (y) from the input array\n",
    "    X = np_Xy[:, :-1]\n",
    "    y = np_Xy[:, -1].reshape(-1, 1)\n",
    "\n",
    "    # Computing mean and standard deviation\n",
    "    mean = np.mean(X, axis=0)\n",
    "    std_dev = np.std(X, axis=0)\n",
    "\n",
    "    # Avoid division by zero\n",
    "    std_dev[std_dev == 0] = 1\n",
    "\n",
    "    # Compute normalized features and stack the labels\n",
    "    X_norm = (X - mean) / std_dev\n",
    "    X_norm = np.hstack((X_norm, y))\n",
    "\n",
    "    return X_norm"
   ],
   "metadata": {
    "collapsed": false,
    "ExecuteTime": {
     "end_time": "2023-11-24T10:20:12.172687Z",
     "start_time": "2023-11-24T10:20:12.166524Z"
    }
   },
   "id": "8eada7ef103d5a6c"
  },
  {
   "cell_type": "markdown",
   "source": [
    "### Training\n",
    "\n",
    "The `train` function implements logistic regression using gradient descent and L2 regularization. It extracts features and labels from the NumPy array, initializes weights and bias randomly, then iteratively updates these parameters based on the computed gradients of a cost function that includes logistic loss and regularization. The function outputs the optimized weights and bias after the specified number of iterations."
   ],
   "metadata": {
    "collapsed": false
   },
   "id": "d16414a14a47cf5"
  },
  {
   "cell_type": "code",
   "execution_count": 7,
   "outputs": [],
   "source": [
    "def train(np_Xy, iterations, learning_rate, lambda_reg):\n",
    "\n",
    "    # Extracting features (X) and labels (y) from the input array\n",
    "    X = np.array([example[:-1] for example in np_Xy])  # Extract features\n",
    "    y = np.array([example[-1] for example in np_Xy])   # Extract labels\n",
    "\n",
    "    # Number of examples and features\n",
    "    m, k = X.shape\n",
    "\n",
    "    np.random.seed(0) # Added for reproducibility\n",
    "    # Initializing weights and bias with random values\n",
    "    w = np.random.rand(k)\n",
    "    b = np.random.rand()\n",
    "\n",
    "    cost_history = []\n",
    "\n",
    "    for i in range(iterations):\n",
    "\n",
    "        # Compute predictions\n",
    "        z = np.dot(X, w) + b\n",
    "        y_hat = 1 / (1 + np.exp(-z))  # Applying the sigmoid function\n",
    "\n",
    "        # Cost function with L2 regularization\n",
    "        cost = (-1/m) * np.sum(y * np.log(y_hat) + (1 - y) * np.log(1 - y_hat))\n",
    "        cost += (lambda_reg / (2*k)) * np.sum(w**2)\n",
    "        cost_history.append(cost)\n",
    "\n",
    "        print(f\"Iteration {i}, Cost: {cost}\")\n",
    "\n",
    "        # Gradient calculation\n",
    "        dw = (1/m) * np.dot(X.T, (y_hat - y)) + (lambda_reg/k) * w\n",
    "        db = (1/m) * np.sum(y_hat - y)\n",
    "\n",
    "        # Gradient calculation with np.sum and for loop\n",
    "        # dw = np.zeros(k)\n",
    "        # for j in range(k):\n",
    "        #    dw[j] = (1/m) * np.sum((y_hat - y) * X[:, j]) + (lambda_reg/k) * w[j]\n",
    "        # db = (1/m) * np.sum(y_hat - y)\n",
    "\n",
    "        # Update weights and bias\n",
    "        w -= learning_rate * dw\n",
    "        b -= learning_rate * db\n",
    "\n",
    "    return w, b, cost_history"
   ],
   "metadata": {
    "collapsed": false,
    "ExecuteTime": {
     "end_time": "2023-11-24T10:29:47.011919Z",
     "start_time": "2023-11-24T10:29:47.007103Z"
    }
   },
   "id": "8c707bfeb68706c7"
  },
  {
   "cell_type": "markdown",
   "source": [
    "### Predict\n",
    "\n",
    "The `predict` function calculates the linear combination of features and weights, adds bias, applies the sigmoid function to derive a probability, and then classifies the input as either class 0 or 1 based on this probability (threshold at 0.5). This function is used for making predictions on individual data examples using trained logistic regression parameters."
   ],
   "metadata": {
    "collapsed": false
   },
   "id": "34433b248d9dbe4f"
  },
  {
   "cell_type": "code",
   "execution_count": 8,
   "outputs": [],
   "source": [
    "def predict(w, b, X):\n",
    "    # Compute the linear combination of the weights and the example\n",
    "    z = 0\n",
    "    for i in range(len(w)):\n",
    "        z += w[i] * X[i]\n",
    "    z+=b\n",
    "    # Apply the sigmoid function to get the probability\n",
    "    p = 1 / (1 + np.exp(-z))\n",
    "    # Predict the class label (0 or 1) based on the probability\n",
    "    if p >= 0.5:\n",
    "        return 1\n",
    "    else:\n",
    "        return 0"
   ],
   "metadata": {
    "collapsed": false,
    "ExecuteTime": {
     "end_time": "2023-11-24T10:29:48.841198Z",
     "start_time": "2023-11-24T10:29:48.837077Z"
    }
   },
   "id": "316cc712006397f2"
  },
  {
   "cell_type": "markdown",
   "source": [
    "### Accuracy\n",
    "\n",
    "The `accuracy` function evaluates the accuracy of the logistic regression model by comparing its predictions with actual labels in the provided dataset. It iterates over each data point, uses the `predict` function with the model's weights and bias, and counts the number of correctly classified examples to calculate the overall accuracy."
   ],
   "metadata": {
    "collapsed": false
   },
   "id": "c1a497fde6172e4d"
  },
  {
   "cell_type": "code",
   "execution_count": 9,
   "outputs": [],
   "source": [
    "def accuracy (w, b, np_Xy):\n",
    "    correctly_classified = 0;\n",
    "    for element in np_Xy:\n",
    "        if(predict(w,b,element[0:11]) == element[11]):\n",
    "            correctly_classified += 1\n",
    "\n",
    "    accuracy = correctly_classified/np_Xy.shape[0]\n",
    "    return accuracy"
   ],
   "metadata": {
    "collapsed": false,
    "ExecuteTime": {
     "end_time": "2023-11-24T10:29:50.204143Z",
     "start_time": "2023-11-24T10:29:50.200504Z"
    }
   },
   "id": "1edff2b14a3544c0"
  },
  {
   "cell_type": "markdown",
   "source": [
    "### Testing\n",
    "\n",
    "The following code snippet is used for testing the whole system:"
   ],
   "metadata": {
    "collapsed": false
   },
   "id": "5fe0baf6642fe202"
  },
  {
   "cell_type": "code",
   "execution_count": 10,
   "outputs": [
    {
     "name": "stdout",
     "output_type": "stream",
     "text": [
      "Iteration 0, Cost: 1.5106185661372558\n",
      "Iteration 1, Cost: 0.746530784633892\n",
      "Iteration 2, Cost: 0.44929634449347844\n",
      "Iteration 3, Cost: 0.34179443441940904\n",
      "Iteration 4, Cost: 0.2939229065429816\n",
      "Iteration 5, Cost: 0.2680999330032723\n",
      "Iteration 6, Cost: 0.25221536558937524\n",
      "Iteration 7, Cost: 0.24154694081042147\n",
      "Iteration 8, Cost: 0.23393022317799456\n",
      "Iteration 9, Cost: 0.2282448669811169\n",
      "Accuracy: 0.930215\n"
     ]
    }
   ],
   "source": [
    "iterations = 10\n",
    "learning_rate = 1.5\n",
    "lamda_reg = 0.05\n",
    "\n",
    "# read data\n",
    "data = readFile(\"data/botnet_tot_syn_l.csv\")\n",
    "# standardize\n",
    "data = normalize(data)\n",
    "# train\n",
    "weights, bias, cost_values = train(data, iterations, learning_rate, lamda_reg)\n",
    "# accuracy\n",
    "accuracy = accuracy(weights, bias, data)\n",
    "print(\"Accuracy:\", accuracy)"
   ],
   "metadata": {
    "collapsed": false,
    "ExecuteTime": {
     "end_time": "2023-11-24T10:29:58.939748Z",
     "start_time": "2023-11-24T10:29:52.651770Z"
    }
   },
   "id": "270e903401382881"
  },
  {
   "cell_type": "code",
   "execution_count": 13,
   "outputs": [
    {
     "data": {
      "text/plain": "<Figure size 640x480 with 1 Axes>",
      "image/png": "[encoded data removed]"
     },
     "metadata": {},
     "output_type": "display_data"
    }
   ],
   "source": [
    "import matplotlib.pyplot as plt\n",
    "\n",
    "# Plotting the cost values\n",
    "plt.plot(range(10), cost_values, marker='o')\n",
    "plt.title('Cost Value Decrease Over Iterations')\n",
    "plt.xlabel('Iteration')\n",
    "plt.ylabel('Cost Value')\n",
    "plt.xticks(range(10))\n",
    "plt.grid(True)\n",
    "plt.show()"
   ],
   "metadata": {
    "collapsed": false,
    "ExecuteTime": {
     "end_time": "2023-11-24T10:34:21.877563Z",
     "start_time": "2023-11-24T10:34:21.817175Z"
    }
   },
   "id": "bab3d4e39f1fd4e0"
  }
 ],
 "metadata": {
  "kernelspec": {
   "display_name": "Python 3",
   "language": "python",
   "name": "python3"
  },
  "language_info": {
   "codemirror_mode": {
    "name": "ipython",
    "version": 2
   },
   "file_extension": ".py",
   "mimetype": "text/x-python",
   "name": "python",
   "nbconvert_exporter": "python",
   "pygments_lexer": "ipython2",
   "version": "2.7.6"
  }
 },
 "nbformat": 4,
 "nbformat_minor": 5
}
