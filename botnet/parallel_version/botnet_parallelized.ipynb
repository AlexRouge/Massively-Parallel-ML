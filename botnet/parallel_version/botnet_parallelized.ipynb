{
 "cells": [
  {
   "cell_type": "markdown",
   "id": "c123757058d3583c",
   "metadata": {
    "collapsed": false
   },
   "source": [
    "# Botnet Logistic Regression Classifier - Parallelized Version\n",
    "\n",
    "Parallelized version of readFile, normalize, train and accuracy functions. The algorithm converges during training, the cost value decreases asymptotically at each iteration. The final reported accuracy of 93.09% suggests that the model is performing well on the given dataset."
   ]
  },
  {
   "cell_type": "markdown",
   "id": "ca17e218746164ee",
   "metadata": {
    "collapsed": false
   },
   "source": [
    "### Preprocessing\n",
    "\n",
    "The `readFile` function in Python uses PySpark to read data from a specified file, process it, and return it as an RDD. Each row in the file is transformed into a record consisting of a tuple, where the first element is a list of 11 floating-point feature values, and the second element is an integer label (0 or 1). "
   ]
  },
  {
   "cell_type": "code",
   "execution_count": 1,
   "id": "99e22889a19fb5d8",
   "metadata": {
    "collapsed": false,
    "ExecuteTime": {
     "end_time": "2023-12-17T17:09:00.651595Z",
     "start_time": "2023-12-17T17:09:00.516362Z"
    }
   },
   "outputs": [],
   "source": [
    "import os\n",
    "from pyspark import SparkContext\n",
    "\n",
    "def readFile(filename):\n",
    "    \"\"\"\n",
    "    Return an RDD containing the data of filename.\n",
    "    Each example (row) of the file corresponds to one RDD record.\n",
    "    Each record of the RDD is a tuple (X,y). “X” is an array containing the 11\n",
    "    features (float number) of an example\n",
    "    “y” is the 12th column of an example (integer 0/1)\n",
    "    \"\"\"\n",
    "\n",
    "    current_directory = os.getcwd()\n",
    "    parent_directory = os.path.dirname(current_directory)\n",
    "    sc = SparkContext.getOrCreate()\n",
    "    data = sc.textFile(parent_directory + \"/\" + filename)\n",
    "    processed_data = data.map(lambda line: line.split(\",\")).map(\n",
    "        lambda cols: ([float(x) for x in cols[:11]], float(cols[11]))\n",
    "    )\n",
    "    return processed_data"
   ]
  },
  {
   "cell_type": "markdown",
   "id": "8781c6331ee31425",
   "metadata": {
    "collapsed": false
   },
   "source": [
    "### Normalizing\n",
    "\n",
    "The `normalize` function, using PySpark, takes an RDD as input and normalizes its features. It first calculates the total number of samples, then proceeds to compute the sum and sum of squares for each feature across all samples. Utilizing the map and reduce functions, it aggregates these values to calculate the mean and variance for each feature. It then computes the standard deviation, handling cases to avoid division by zero. The mean and standard deviation are broadcasted to all nodes. Finally, it applies normalization to each record (feature vector) in the RDD, adjusting each feature to have a mean of 0 and a standard deviation of 1, and returns the normalized RDD."
   ]
  },
  {
   "cell_type": "code",
   "execution_count": 2,
   "id": "cee7cbeacb6a256d",
   "metadata": {
    "collapsed": false,
    "ExecuteTime": {
     "end_time": "2023-12-17T17:09:00.651864Z",
     "start_time": "2023-12-17T17:09:00.625331Z"
    }
   },
   "outputs": [],
   "source": [
    "def normalize(RDD_Xy):\n",
    "    sc = SparkContext.getOrCreate()\n",
    "\n",
    "    number_of_samples = RDD_Xy.count()\n",
    "\n",
    "    # Function to compute sum and sum of squares for each feature\n",
    "    def compute_sum_and_squares(record):\n",
    "        X, _ = record\n",
    "        return (np.array(X), np.array(X) ** 2)\n",
    "\n",
    "    # Aggregate the sum and sum of squares for each feature, and count the examples\n",
    "    sum_squares_count = RDD_Xy.map(compute_sum_and_squares).reduce(\n",
    "        lambda a, b: (a[0] + b[0], a[1] + b[1])\n",
    "    )\n",
    "\n",
    "    # Calculate the mean and variance for each feature\n",
    "    mean = sum_squares_count[0] / number_of_samples\n",
    "    variance = (sum_squares_count[1] / number_of_samples) - mean**2\n",
    "    std_dev = np.sqrt(variance)\n",
    "\n",
    "    # Replace zeros in standard deviation with ones to avoid division by zero\n",
    "    std_dev[std_dev == 0] = 1\n",
    "\n",
    "    # Broadcast the mean and std_dev to all the nodes\n",
    "    broadcast_mean = sc.broadcast(mean)\n",
    "    broadcast_std_dev = sc.broadcast(std_dev)\n",
    "\n",
    "    # Function to normalize features\n",
    "    def normalize_features(record):\n",
    "        X, y = record\n",
    "        X_normalized = (X - broadcast_mean.value) / broadcast_std_dev.value\n",
    "        return (X_normalized, y)\n",
    "\n",
    "    # Normalize each feature and return the new RDD\n",
    "    return RDD_Xy.map(normalize_features)\n"
   ]
  },
  {
   "cell_type": "markdown",
   "id": "433861937135872d",
   "metadata": {
    "collapsed": false
   },
   "source": [
    "### Training\n",
    "\n",
    "The `train` function in PySpark performs logistic regression training on an RDD. It iterates through a specified number of iterations, broadcasting weights and bias, computing gradients, and updating the model parameters using gradient descent. Auxiliary functions `compute_gradients` and `compute_cost` calculate gradients and cost for each data point, aiding in weight updates and cost monitoring for each iteration. The function is designed for distributed execution in a Spark environment."
   ]
  },
  {
   "cell_type": "code",
   "execution_count": 3,
   "id": "43e5b7f4f155f5f7",
   "metadata": {
    "collapsed": false,
    "ExecuteTime": {
     "end_time": "2023-12-17T17:09:00.651987Z",
     "start_time": "2023-12-17T17:09:00.632058Z"
    }
   },
   "outputs": [],
   "source": [
    "def train(RDD_Xy, iterations, learning_rate, lambda_reg):\n",
    "    \n",
    "    sc = SparkContext.getOrCreate()\n",
    "\n",
    "    # Number of features (assuming all records have the same number of features)\n",
    "    k = len(RDD_Xy.first()[0])\n",
    "    m = RDD_Xy.count()  # Total number of examples\n",
    "\n",
    "    np.random.seed(0)  # For reproducibility\n",
    "    w = np.random.rand(k)  # Weight vector\n",
    "    b = np.random.rand()  # Bias term\n",
    "\n",
    "    for i in range(iterations):\n",
    "        # Broadcast weights and bias\n",
    "        broadcast_w = sc.broadcast(w)\n",
    "        broadcast_b = sc.broadcast(b)\n",
    "\n",
    "        # Compute gradients\n",
    "        gradients = RDD_Xy.map(\n",
    "            lambda x: compute_gradients(x, broadcast_w.value, broadcast_b.value, k)\n",
    "        ).reduce(lambda a, b: (a[0] + b[0], a[1] + b[1]))\n",
    "\n",
    "        # Update weights and bias\n",
    "        w -= learning_rate * ((1 / m) * gradients[0] + (lambda_reg / k) * w)\n",
    "        b -= learning_rate * (\n",
    "                (1 / m) * gradients[1] + ((lambda_reg / (2 * k)) * np.sum(w**2))\n",
    "        )\n",
    "\n",
    "        # Optional: Print cost for monitoring (not recommended for large datasets)\n",
    "        cost = RDD_Xy.map(\n",
    "            lambda x: compute_cost(x, broadcast_w.value, broadcast_b.value, k)\n",
    "        ).reduce(lambda x, y: x + y)\n",
    "        cost = (-1 / m) * cost\n",
    "        cost += (lambda_reg / (2 * k)) * np.sum(w**2)\n",
    "        print(f\"Iteration {i}, Cost: {cost}\")\n",
    "    return w, b\n",
    "\n",
    "\n",
    "def compute_gradients(record, w, b, k):\n",
    "    X, y = record\n",
    "    z = 0\n",
    "    for i in range(k):\n",
    "        z += X[i] * w[i]\n",
    "    z += b\n",
    "    y_hat = 1 / (1 + np.exp(-z))\n",
    "    dw = (y_hat - y) * X\n",
    "    db = y_hat - y\n",
    "    return dw, db\n",
    "\n",
    "\n",
    "def compute_cost(record, w, b, k):\n",
    "    X, y = record\n",
    "    z = 0\n",
    "    for i in range(k):\n",
    "        z += X[i] * w[i]\n",
    "    z += b\n",
    "    y_hat = 1 / (1 + np.exp(-z))\n",
    "    cost = y * np.log(y_hat) + (1 - y) * np.log(1 - y_hat)\n",
    "    return cost\n"
   ]
  },
  {
   "cell_type": "markdown",
   "id": "9723bcc9b2802ea",
   "metadata": {
    "collapsed": false
   },
   "source": [
    "### Predict\n",
    "\n",
    "The `predict` function computes a logistic regression prediction for a given feature vector `X` using provided weights `w` and bias `b`. It calculates the linear combination of features and weights, adds the bias, then applies the sigmoid function to determine the probability of the instance belonging to the positive class. Based on this probability, it returns a binary class label (0 or 1)."
   ]
  },
  {
   "cell_type": "code",
   "execution_count": 4,
   "id": "ab4cf24a12b00dca",
   "metadata": {
    "collapsed": false,
    "ExecuteTime": {
     "end_time": "2023-12-17T17:09:00.652023Z",
     "start_time": "2023-12-17T17:09:00.636109Z"
    }
   },
   "outputs": [],
   "source": [
    "import numpy as np\n",
    "\n",
    "def predict(w, b, X, threshold=0.5):\n",
    "    # Initialize the sum\n",
    "    z = 0\n",
    "    # Iterate over the weights and corresponding features\n",
    "    for i in range(len(w)):\n",
    "        z += w[i] * X[i]\n",
    "        # Add the bias term\n",
    "    z += b\n",
    "\n",
    "    # compact way to calculate it z = np.dot(w, X) + b\n",
    "\n",
    "    # Apply the sigmoid function to get the probability\n",
    "    p = 1 / (1 + np.exp(-z))\n",
    "    # Predict the class label (0 or 1) based on the probability\n",
    "    if p >= threshold:\n",
    "        return 1\n",
    "    else:\n",
    "        return 0\n"
   ]
  },
  {
   "cell_type": "markdown",
   "id": "70e4808939a6bc8c",
   "metadata": {
    "collapsed": false
   },
   "source": [
    "### Accuracy\n",
    "\n",
    "The `accuracy` function evaluates the performance of a logistic regression model on an RDD dataset by calculating its accuracy. It maps each record in the RDD to 1 or 0, based on whether the model's prediction matches the actual label, using the `predict` function. The function then sums these values using `reduce` to count correct predictions and divides this sum by the total number of records in the RDD to compute the overall accuracy."
   ]
  },
  {
   "cell_type": "code",
   "execution_count": 5,
   "id": "ccceadbe3201fdb9",
   "metadata": {
    "collapsed": false,
    "ExecuteTime": {
     "end_time": "2023-12-17T17:09:00.652051Z",
     "start_time": "2023-12-17T17:09:00.637667Z"
    }
   },
   "outputs": [],
   "source": [
    "\n",
    "def accuracy(w, b, RDD_xy):\n",
    "    prediction_results = RDD_xy.map(\n",
    "        lambda record: 1 if predict(w, b, record[0]) == record[1] else 0\n",
    "    )\n",
    "\n",
    "    # Step 2: Use reduce to sum up the correct predictions\n",
    "    correctly_classified = prediction_results.reduce(lambda a, b: a + b)\n",
    "\n",
    "    # Step 3: Calculate accuracy\n",
    "    accuracy = correctly_classified / RDD_xy.count()\n",
    "    return accuracy\n"
   ]
  },
  {
   "cell_type": "code",
   "execution_count": 6,
   "id": "3008859c",
   "metadata": {
    "ExecuteTime": {
     "end_time": "2023-12-17T17:09:00.652126Z",
     "start_time": "2023-12-17T17:09:00.641140Z"
    }
   },
   "outputs": [],
   "source": [
    "def compute_metrics(RDD_Xy, w, b):\n",
    "    thresholds = [0.1, 0.2, 0.3, 0.4, 0.5, 0.6, 0.7, 0.8, 0.9]\n",
    "\n",
    "    def calculate_metrics_for_threshold(RDD, threshold):\n",
    "        # Calculate TP, FP, TN, FN for a given threshold\n",
    "        metrics = RDD.map(lambda x: (predict(w, b, x[0], threshold), x[1])) \\\n",
    "                     .map(lambda x: (int(x[0] == 1 and x[1] == 1), int(x[0] == 1 and x[1] == 0), int(x[0] == 0 and x[1] == 0), int(x[0] == 0 and x[1] == 1))) \\\n",
    "                     .reduce(lambda a, b: (a[0] + b[0], a[1] + b[1], a[2] + b[2], a[3] + b[3]))\n",
    "        TP, FP, TN, FN = metrics\n",
    "\n",
    "        return TP, FP, TN, FN\n",
    "\n",
    "    # Compute metrics for each threshold\n",
    "    metrics_for_thresholds = {thresh: calculate_metrics_for_threshold(RDD_Xy, thresh) for thresh in thresholds}\n",
    "    return metrics_for_thresholds"
   ]
  },
  {
   "cell_type": "markdown",
   "id": "b3da22ce1e89265b",
   "metadata": {
    "collapsed": false
   },
   "source": [
    "### Testing\n",
    "\n",
    "The following code snippet is used for testing the whole system:"
   ]
  },
  {
   "cell_type": "code",
   "execution_count": 7,
   "id": "aab4b79255387ba5",
   "metadata": {
    "collapsed": false,
    "ExecuteTime": {
     "end_time": "2023-12-17T17:16:40.081149Z",
     "start_time": "2023-12-17T17:09:00.644099Z"
    }
   },
   "outputs": [
    {
     "name": "stderr",
     "output_type": "stream",
     "text": [
      "Setting default log level to \"WARN\".\n",
      "To adjust logging level use sc.setLogLevel(newLevel). For SparkR, use setLogLevel(newLevel).\n",
      "23/12/17 18:09:01 WARN NativeCodeLoader: Unable to load native-hadoop library for your platform... using builtin-java classes where applicable\n",
      "23/12/17 18:09:02 WARN Utils: Service 'SparkUI' could not bind on port 4040. Attempting port 4041.\n",
      "23/12/17 18:09:12 WARN BlockManager: Task 18 already completed, not releasing lock for rdd_4_0\n",
      "23/12/17 18:09:15 WARN GarbageCollectionMetrics: To enable non-built-in garbage collector(s) List(G1 Concurrent GC), users should configure it(them) to spark.eventLog.gcMetrics.youngGenerationGarbageCollectors or spark.eventLog.gcMetrics.oldGenerationGarbageCollectors\n",
      "                                                                                \r"
     ]
    },
    {
     "name": "stdout",
     "output_type": "stream",
     "text": [
      "Iteration 0, Cost: 1.5064344561999052\n"
     ]
    },
    {
     "name": "stderr",
     "output_type": "stream",
     "text": [
      "                                                                                \r"
     ]
    },
    {
     "name": "stdout",
     "output_type": "stream",
     "text": [
      "Iteration 1, Cost: 0.7455361685980132\n"
     ]
    },
    {
     "name": "stderr",
     "output_type": "stream",
     "text": [
      "                                                                                \r"
     ]
    },
    {
     "name": "stdout",
     "output_type": "stream",
     "text": [
      "Iteration 2, Cost: 0.4491058666358347\n"
     ]
    },
    {
     "name": "stderr",
     "output_type": "stream",
     "text": [
      "                                                                                \r"
     ]
    },
    {
     "name": "stdout",
     "output_type": "stream",
     "text": [
      "Iteration 3, Cost: 0.3418193988664206\n"
     ]
    },
    {
     "name": "stderr",
     "output_type": "stream",
     "text": [
      "                                                                                \r"
     ]
    },
    {
     "name": "stdout",
     "output_type": "stream",
     "text": [
      "Iteration 4, Cost: 0.29398719162471226\n"
     ]
    },
    {
     "name": "stderr",
     "output_type": "stream",
     "text": [
      "                                                                                \r"
     ]
    },
    {
     "name": "stdout",
     "output_type": "stream",
     "text": [
      "Iteration 5, Cost: 0.2681576630981871\n"
     ]
    },
    {
     "name": "stderr",
     "output_type": "stream",
     "text": [
      "                                                                                \r"
     ]
    },
    {
     "name": "stdout",
     "output_type": "stream",
     "text": [
      "Iteration 6, Cost: 0.25226351106148315\n"
     ]
    },
    {
     "name": "stderr",
     "output_type": "stream",
     "text": [
      "                                                                                \r"
     ]
    },
    {
     "name": "stdout",
     "output_type": "stream",
     "text": [
      "Iteration 7, Cost: 0.24159520691566388\n"
     ]
    },
    {
     "name": "stderr",
     "output_type": "stream",
     "text": [
      "                                                                                \r"
     ]
    },
    {
     "name": "stdout",
     "output_type": "stream",
     "text": [
      "Iteration 8, Cost: 0.23399108125822288\n"
     ]
    },
    {
     "name": "stderr",
     "output_type": "stream",
     "text": [
      "                                                                                \r"
     ]
    },
    {
     "name": "stdout",
     "output_type": "stream",
     "text": [
      "Iteration 9, Cost: 0.22833027836928302\n"
     ]
    },
    {
     "name": "stderr",
     "output_type": "stream",
     "text": [
      "                                                                                \r"
     ]
    },
    {
     "name": "stdout",
     "output_type": "stream",
     "text": [
      "accuracy: 0.930998\n"
     ]
    },
    {
     "name": "stderr",
     "output_type": "stream",
     "text": [
      "23/12/17 18:10:54 WARN Utils: Service 'SparkUI' could not bind on port 4040. Attempting port 4041.\n",
      "23/12/17 18:10:59 WARN BlockManager: Task 18 already completed, not releasing lock for rdd_4_0\n",
      "                                                                                \r"
     ]
    },
    {
     "name": "stdout",
     "output_type": "stream",
     "text": [
      "Iteration 0, Cost: 1.5064344561999052\n"
     ]
    },
    {
     "name": "stderr",
     "output_type": "stream",
     "text": [
      "                                                                                \r"
     ]
    },
    {
     "name": "stdout",
     "output_type": "stream",
     "text": [
      "Iteration 1, Cost: 0.7455361685980132\n"
     ]
    },
    {
     "name": "stderr",
     "output_type": "stream",
     "text": [
      "                                                                                \r"
     ]
    },
    {
     "name": "stdout",
     "output_type": "stream",
     "text": [
      "Iteration 2, Cost: 0.4491058666358347\n"
     ]
    },
    {
     "name": "stderr",
     "output_type": "stream",
     "text": [
      "                                                                                \r"
     ]
    },
    {
     "name": "stdout",
     "output_type": "stream",
     "text": [
      "Iteration 3, Cost: 0.3418193988664206\n"
     ]
    },
    {
     "name": "stderr",
     "output_type": "stream",
     "text": [
      "                                                                                \r"
     ]
    },
    {
     "name": "stdout",
     "output_type": "stream",
     "text": [
      "Iteration 4, Cost: 0.29398719162471226\n"
     ]
    },
    {
     "name": "stderr",
     "output_type": "stream",
     "text": [
      "                                                                                \r"
     ]
    },
    {
     "name": "stdout",
     "output_type": "stream",
     "text": [
      "Iteration 5, Cost: 0.2681576630981871\n"
     ]
    },
    {
     "name": "stderr",
     "output_type": "stream",
     "text": [
      "                                                                                \r"
     ]
    },
    {
     "name": "stdout",
     "output_type": "stream",
     "text": [
      "Iteration 6, Cost: 0.25226351106148315\n"
     ]
    },
    {
     "name": "stderr",
     "output_type": "stream",
     "text": [
      "                                                                                \r"
     ]
    },
    {
     "name": "stdout",
     "output_type": "stream",
     "text": [
      "Iteration 7, Cost: 0.24159520691566388\n"
     ]
    },
    {
     "name": "stderr",
     "output_type": "stream",
     "text": [
      "                                                                                \r"
     ]
    },
    {
     "name": "stdout",
     "output_type": "stream",
     "text": [
      "Iteration 8, Cost: 0.23399108125822288\n"
     ]
    },
    {
     "name": "stderr",
     "output_type": "stream",
     "text": [
      "                                                                                \r"
     ]
    },
    {
     "name": "stdout",
     "output_type": "stream",
     "text": [
      "Iteration 9, Cost: 0.22833027836928302\n"
     ]
    },
    {
     "name": "stderr",
     "output_type": "stream",
     "text": [
      "                                                                                \r"
     ]
    },
    {
     "name": "stdout",
     "output_type": "stream",
     "text": [
      "accuracy: 0.930998\n"
     ]
    },
    {
     "name": "stderr",
     "output_type": "stream",
     "text": [
      "23/12/17 18:11:53 WARN Utils: Service 'SparkUI' could not bind on port 4040. Attempting port 4041.\n",
      "23/12/17 18:11:58 WARN BlockManager: Task 18 already completed, not releasing lock for rdd_4_0\n",
      "                                                                                \r"
     ]
    },
    {
     "name": "stdout",
     "output_type": "stream",
     "text": [
      "Iteration 0, Cost: 1.5064344561999052\n"
     ]
    },
    {
     "name": "stderr",
     "output_type": "stream",
     "text": [
      "                                                                                \r"
     ]
    },
    {
     "name": "stdout",
     "output_type": "stream",
     "text": [
      "Iteration 1, Cost: 0.7455361685980132\n"
     ]
    },
    {
     "name": "stderr",
     "output_type": "stream",
     "text": [
      "                                                                                \r"
     ]
    },
    {
     "name": "stdout",
     "output_type": "stream",
     "text": [
      "Iteration 2, Cost: 0.4491058666358347\n"
     ]
    },
    {
     "name": "stderr",
     "output_type": "stream",
     "text": [
      "                                                                                \r"
     ]
    },
    {
     "name": "stdout",
     "output_type": "stream",
     "text": [
      "Iteration 3, Cost: 0.3418193988664206\n"
     ]
    },
    {
     "name": "stderr",
     "output_type": "stream",
     "text": [
      "                                                                                \r"
     ]
    },
    {
     "name": "stdout",
     "output_type": "stream",
     "text": [
      "Iteration 4, Cost: 0.29398719162471226\n"
     ]
    },
    {
     "name": "stderr",
     "output_type": "stream",
     "text": [
      "                                                                                \r"
     ]
    },
    {
     "name": "stdout",
     "output_type": "stream",
     "text": [
      "Iteration 5, Cost: 0.2681576630981871\n"
     ]
    },
    {
     "name": "stderr",
     "output_type": "stream",
     "text": [
      "                                                                                \r"
     ]
    },
    {
     "name": "stdout",
     "output_type": "stream",
     "text": [
      "Iteration 6, Cost: 0.25226351106148315\n"
     ]
    },
    {
     "name": "stderr",
     "output_type": "stream",
     "text": [
      "                                                                                \r"
     ]
    },
    {
     "name": "stdout",
     "output_type": "stream",
     "text": [
      "Iteration 7, Cost: 0.24159520691566388\n"
     ]
    },
    {
     "name": "stderr",
     "output_type": "stream",
     "text": [
      "                                                                                \r"
     ]
    },
    {
     "name": "stdout",
     "output_type": "stream",
     "text": [
      "Iteration 8, Cost: 0.23399108125822288\n"
     ]
    },
    {
     "name": "stderr",
     "output_type": "stream",
     "text": [
      "                                                                                \r"
     ]
    },
    {
     "name": "stdout",
     "output_type": "stream",
     "text": [
      "Iteration 9, Cost: 0.22833027836928302\n"
     ]
    },
    {
     "name": "stderr",
     "output_type": "stream",
     "text": [
      "                                                                                \r"
     ]
    },
    {
     "name": "stdout",
     "output_type": "stream",
     "text": [
      "accuracy: 0.930998\n"
     ]
    },
    {
     "name": "stderr",
     "output_type": "stream",
     "text": [
      "23/12/17 18:12:35 WARN Utils: Service 'SparkUI' could not bind on port 4040. Attempting port 4041.\n",
      "23/12/17 18:12:39 WARN BlockManager: Task 18 already completed, not releasing lock for rdd_4_0\n",
      "                                                                                \r"
     ]
    },
    {
     "name": "stdout",
     "output_type": "stream",
     "text": [
      "Iteration 0, Cost: 1.5064344561999052\n"
     ]
    },
    {
     "name": "stderr",
     "output_type": "stream",
     "text": [
      "                                                                                \r"
     ]
    },
    {
     "name": "stdout",
     "output_type": "stream",
     "text": [
      "Iteration 1, Cost: 0.7455361685980132\n"
     ]
    },
    {
     "name": "stderr",
     "output_type": "stream",
     "text": [
      "                                                                                \r"
     ]
    },
    {
     "name": "stdout",
     "output_type": "stream",
     "text": [
      "Iteration 2, Cost: 0.4491058666358347\n"
     ]
    },
    {
     "name": "stderr",
     "output_type": "stream",
     "text": [
      "                                                                                \r"
     ]
    },
    {
     "name": "stdout",
     "output_type": "stream",
     "text": [
      "Iteration 3, Cost: 0.3418193988664206\n"
     ]
    },
    {
     "name": "stderr",
     "output_type": "stream",
     "text": [
      "                                                                                \r"
     ]
    },
    {
     "name": "stdout",
     "output_type": "stream",
     "text": [
      "Iteration 4, Cost: 0.29398719162471226\n"
     ]
    },
    {
     "name": "stderr",
     "output_type": "stream",
     "text": [
      "                                                                                \r"
     ]
    },
    {
     "name": "stdout",
     "output_type": "stream",
     "text": [
      "Iteration 5, Cost: 0.2681576630981871\n"
     ]
    },
    {
     "name": "stderr",
     "output_type": "stream",
     "text": [
      "                                                                                \r"
     ]
    },
    {
     "name": "stdout",
     "output_type": "stream",
     "text": [
      "Iteration 6, Cost: 0.25226351106148315\n"
     ]
    },
    {
     "name": "stderr",
     "output_type": "stream",
     "text": [
      "                                                                                \r"
     ]
    },
    {
     "name": "stdout",
     "output_type": "stream",
     "text": [
      "Iteration 7, Cost: 0.24159520691566388\n"
     ]
    },
    {
     "name": "stderr",
     "output_type": "stream",
     "text": [
      "                                                                                \r"
     ]
    },
    {
     "name": "stdout",
     "output_type": "stream",
     "text": [
      "Iteration 8, Cost: 0.23399108125822288\n"
     ]
    },
    {
     "name": "stderr",
     "output_type": "stream",
     "text": [
      "                                                                                \r"
     ]
    },
    {
     "name": "stdout",
     "output_type": "stream",
     "text": [
      "Iteration 9, Cost: 0.22833027836928302\n"
     ]
    },
    {
     "name": "stderr",
     "output_type": "stream",
     "text": [
      "                                                                                \r"
     ]
    },
    {
     "name": "stdout",
     "output_type": "stream",
     "text": [
      "accuracy: 0.930998\n"
     ]
    },
    {
     "name": "stderr",
     "output_type": "stream",
     "text": [
      "23/12/17 18:13:12 WARN Utils: Service 'SparkUI' could not bind on port 4040. Attempting port 4041.\n",
      "23/12/17 18:13:15 WARN BlockManager: Task 18 already completed, not releasing lock for rdd_4_0\n",
      "                                                                                \r"
     ]
    },
    {
     "name": "stdout",
     "output_type": "stream",
     "text": [
      "Iteration 0, Cost: 1.5064344561999052\n"
     ]
    },
    {
     "name": "stderr",
     "output_type": "stream",
     "text": [
      "                                                                                \r"
     ]
    },
    {
     "name": "stdout",
     "output_type": "stream",
     "text": [
      "Iteration 1, Cost: 0.7455361685980132\n"
     ]
    },
    {
     "name": "stderr",
     "output_type": "stream",
     "text": [
      "                                                                                \r"
     ]
    },
    {
     "name": "stdout",
     "output_type": "stream",
     "text": [
      "Iteration 2, Cost: 0.4491058666358347\n"
     ]
    },
    {
     "name": "stderr",
     "output_type": "stream",
     "text": [
      "                                                                                \r"
     ]
    },
    {
     "name": "stdout",
     "output_type": "stream",
     "text": [
      "Iteration 3, Cost: 0.3418193988664206\n"
     ]
    },
    {
     "name": "stderr",
     "output_type": "stream",
     "text": [
      "                                                                                \r"
     ]
    },
    {
     "name": "stdout",
     "output_type": "stream",
     "text": [
      "Iteration 4, Cost: 0.29398719162471226\n"
     ]
    },
    {
     "name": "stderr",
     "output_type": "stream",
     "text": [
      "                                                                                \r"
     ]
    },
    {
     "name": "stdout",
     "output_type": "stream",
     "text": [
      "Iteration 5, Cost: 0.2681576630981871\n"
     ]
    },
    {
     "name": "stderr",
     "output_type": "stream",
     "text": [
      "                                                                                \r"
     ]
    },
    {
     "name": "stdout",
     "output_type": "stream",
     "text": [
      "Iteration 6, Cost: 0.25226351106148315\n"
     ]
    },
    {
     "name": "stderr",
     "output_type": "stream",
     "text": [
      "                                                                                \r"
     ]
    },
    {
     "name": "stdout",
     "output_type": "stream",
     "text": [
      "Iteration 7, Cost: 0.24159520691566388\n"
     ]
    },
    {
     "name": "stderr",
     "output_type": "stream",
     "text": [
      "                                                                                \r"
     ]
    },
    {
     "name": "stdout",
     "output_type": "stream",
     "text": [
      "Iteration 8, Cost: 0.23399108125822288\n"
     ]
    },
    {
     "name": "stderr",
     "output_type": "stream",
     "text": [
      "                                                                                \r"
     ]
    },
    {
     "name": "stdout",
     "output_type": "stream",
     "text": [
      "Iteration 9, Cost: 0.22833027836928302\n"
     ]
    },
    {
     "name": "stderr",
     "output_type": "stream",
     "text": [
      "                                                                                \r"
     ]
    },
    {
     "name": "stdout",
     "output_type": "stream",
     "text": [
      "accuracy: 0.930998\n"
     ]
    },
    {
     "name": "stderr",
     "output_type": "stream",
     "text": [
      "23/12/17 18:13:42 WARN Utils: Service 'SparkUI' could not bind on port 4040. Attempting port 4041.\n",
      "23/12/17 18:13:46 WARN BlockManager: Task 18 already completed, not releasing lock for rdd_4_0\n",
      "                                                                                \r"
     ]
    },
    {
     "name": "stdout",
     "output_type": "stream",
     "text": [
      "Iteration 0, Cost: 1.5064344561999052\n"
     ]
    },
    {
     "name": "stderr",
     "output_type": "stream",
     "text": [
      "                                                                                \r"
     ]
    },
    {
     "name": "stdout",
     "output_type": "stream",
     "text": [
      "Iteration 1, Cost: 0.7455361685980132\n"
     ]
    },
    {
     "name": "stderr",
     "output_type": "stream",
     "text": [
      "                                                                                \r"
     ]
    },
    {
     "name": "stdout",
     "output_type": "stream",
     "text": [
      "Iteration 2, Cost: 0.4491058666358347\n"
     ]
    },
    {
     "name": "stderr",
     "output_type": "stream",
     "text": [
      "                                                                                \r"
     ]
    },
    {
     "name": "stdout",
     "output_type": "stream",
     "text": [
      "Iteration 3, Cost: 0.3418193988664206\n"
     ]
    },
    {
     "name": "stderr",
     "output_type": "stream",
     "text": [
      "                                                                                \r"
     ]
    },
    {
     "name": "stdout",
     "output_type": "stream",
     "text": [
      "Iteration 4, Cost: 0.29398719162471226\n"
     ]
    },
    {
     "name": "stderr",
     "output_type": "stream",
     "text": [
      "                                                                                \r"
     ]
    },
    {
     "name": "stdout",
     "output_type": "stream",
     "text": [
      "Iteration 5, Cost: 0.2681576630981871\n"
     ]
    },
    {
     "name": "stderr",
     "output_type": "stream",
     "text": [
      "                                                                                \r"
     ]
    },
    {
     "name": "stdout",
     "output_type": "stream",
     "text": [
      "Iteration 6, Cost: 0.25226351106148315\n"
     ]
    },
    {
     "name": "stderr",
     "output_type": "stream",
     "text": [
      "                                                                                \r"
     ]
    },
    {
     "name": "stdout",
     "output_type": "stream",
     "text": [
      "Iteration 7, Cost: 0.24159520691566388\n"
     ]
    },
    {
     "name": "stderr",
     "output_type": "stream",
     "text": [
      "                                                                                \r"
     ]
    },
    {
     "name": "stdout",
     "output_type": "stream",
     "text": [
      "Iteration 8, Cost: 0.23399108125822288\n"
     ]
    },
    {
     "name": "stderr",
     "output_type": "stream",
     "text": [
      "                                                                                \r"
     ]
    },
    {
     "name": "stdout",
     "output_type": "stream",
     "text": [
      "Iteration 9, Cost: 0.22833027836928302\n"
     ]
    },
    {
     "name": "stderr",
     "output_type": "stream",
     "text": [
      "                                                                                \r"
     ]
    },
    {
     "name": "stdout",
     "output_type": "stream",
     "text": [
      "accuracy: 0.930998\n"
     ]
    },
    {
     "name": "stderr",
     "output_type": "stream",
     "text": [
      "23/12/17 18:14:14 WARN Utils: Service 'SparkUI' could not bind on port 4040. Attempting port 4041.\n",
      "23/12/17 18:14:18 WARN BlockManager: Task 18 already completed, not releasing lock for rdd_4_0\n",
      "                                                                                \r"
     ]
    },
    {
     "name": "stdout",
     "output_type": "stream",
     "text": [
      "Iteration 0, Cost: 1.5064344561999052\n"
     ]
    },
    {
     "name": "stderr",
     "output_type": "stream",
     "text": [
      "                                                                                \r"
     ]
    },
    {
     "name": "stdout",
     "output_type": "stream",
     "text": [
      "Iteration 1, Cost: 0.7455361685980132\n"
     ]
    },
    {
     "name": "stderr",
     "output_type": "stream",
     "text": [
      "                                                                                \r"
     ]
    },
    {
     "name": "stdout",
     "output_type": "stream",
     "text": [
      "Iteration 2, Cost: 0.4491058666358347\n"
     ]
    },
    {
     "name": "stderr",
     "output_type": "stream",
     "text": [
      "                                                                                \r"
     ]
    },
    {
     "name": "stdout",
     "output_type": "stream",
     "text": [
      "Iteration 3, Cost: 0.3418193988664206\n"
     ]
    },
    {
     "name": "stderr",
     "output_type": "stream",
     "text": [
      "                                                                                \r"
     ]
    },
    {
     "name": "stdout",
     "output_type": "stream",
     "text": [
      "Iteration 4, Cost: 0.29398719162471226\n"
     ]
    },
    {
     "name": "stderr",
     "output_type": "stream",
     "text": [
      "                                                                                \r"
     ]
    },
    {
     "name": "stdout",
     "output_type": "stream",
     "text": [
      "Iteration 5, Cost: 0.2681576630981871\n"
     ]
    },
    {
     "name": "stderr",
     "output_type": "stream",
     "text": [
      "                                                                                \r"
     ]
    },
    {
     "name": "stdout",
     "output_type": "stream",
     "text": [
      "Iteration 6, Cost: 0.25226351106148315\n"
     ]
    },
    {
     "name": "stderr",
     "output_type": "stream",
     "text": [
      "                                                                                \r"
     ]
    },
    {
     "name": "stdout",
     "output_type": "stream",
     "text": [
      "Iteration 7, Cost: 0.24159520691566388\n"
     ]
    },
    {
     "name": "stderr",
     "output_type": "stream",
     "text": [
      "                                                                                \r"
     ]
    },
    {
     "name": "stdout",
     "output_type": "stream",
     "text": [
      "Iteration 8, Cost: 0.23399108125822288\n"
     ]
    },
    {
     "name": "stderr",
     "output_type": "stream",
     "text": [
      "                                                                                \r"
     ]
    },
    {
     "name": "stdout",
     "output_type": "stream",
     "text": [
      "Iteration 9, Cost: 0.22833027836928302\n"
     ]
    },
    {
     "name": "stderr",
     "output_type": "stream",
     "text": [
      "                                                                                \r"
     ]
    },
    {
     "name": "stdout",
     "output_type": "stream",
     "text": [
      "accuracy: 0.930998\n"
     ]
    },
    {
     "name": "stderr",
     "output_type": "stream",
     "text": [
      "23/12/17 18:14:46 WARN Utils: Service 'SparkUI' could not bind on port 4040. Attempting port 4041.\n",
      "23/12/17 18:14:49 WARN BlockManager: Task 18 already completed, not releasing lock for rdd_4_0\n",
      "                                                                                \r"
     ]
    },
    {
     "name": "stdout",
     "output_type": "stream",
     "text": [
      "Iteration 0, Cost: 1.5064344561999052\n"
     ]
    },
    {
     "name": "stderr",
     "output_type": "stream",
     "text": [
      "                                                                                \r"
     ]
    },
    {
     "name": "stdout",
     "output_type": "stream",
     "text": [
      "Iteration 1, Cost: 0.7455361685980132\n"
     ]
    },
    {
     "name": "stderr",
     "output_type": "stream",
     "text": [
      "                                                                                \r"
     ]
    },
    {
     "name": "stdout",
     "output_type": "stream",
     "text": [
      "Iteration 2, Cost: 0.4491058666358347\n"
     ]
    },
    {
     "name": "stderr",
     "output_type": "stream",
     "text": [
      "                                                                                \r"
     ]
    },
    {
     "name": "stdout",
     "output_type": "stream",
     "text": [
      "Iteration 3, Cost: 0.3418193988664206\n"
     ]
    },
    {
     "name": "stderr",
     "output_type": "stream",
     "text": [
      "                                                                                \r"
     ]
    },
    {
     "name": "stdout",
     "output_type": "stream",
     "text": [
      "Iteration 4, Cost: 0.29398719162471226\n"
     ]
    },
    {
     "name": "stderr",
     "output_type": "stream",
     "text": [
      "                                                                                \r"
     ]
    },
    {
     "name": "stdout",
     "output_type": "stream",
     "text": [
      "Iteration 5, Cost: 0.2681576630981871\n"
     ]
    },
    {
     "name": "stderr",
     "output_type": "stream",
     "text": [
      "                                                                                \r"
     ]
    },
    {
     "name": "stdout",
     "output_type": "stream",
     "text": [
      "Iteration 6, Cost: 0.25226351106148315\n"
     ]
    },
    {
     "name": "stderr",
     "output_type": "stream",
     "text": [
      "                                                                                \r"
     ]
    },
    {
     "name": "stdout",
     "output_type": "stream",
     "text": [
      "Iteration 7, Cost: 0.24159520691566388\n"
     ]
    },
    {
     "name": "stderr",
     "output_type": "stream",
     "text": [
      "                                                                                \r"
     ]
    },
    {
     "name": "stdout",
     "output_type": "stream",
     "text": [
      "Iteration 8, Cost: 0.23399108125822288\n"
     ]
    },
    {
     "name": "stderr",
     "output_type": "stream",
     "text": [
      "                                                                                \r"
     ]
    },
    {
     "name": "stdout",
     "output_type": "stream",
     "text": [
      "Iteration 9, Cost: 0.22833027836928302\n"
     ]
    },
    {
     "name": "stderr",
     "output_type": "stream",
     "text": [
      "                                                                                \r"
     ]
    },
    {
     "name": "stdout",
     "output_type": "stream",
     "text": [
      "accuracy: 0.930998\n"
     ]
    },
    {
     "name": "stderr",
     "output_type": "stream",
     "text": [
      "23/12/17 18:15:10 WARN Utils: Service 'SparkUI' could not bind on port 4040. Attempting port 4041.\n",
      "23/12/17 18:15:13 WARN BlockManager: Task 18 already completed, not releasing lock for rdd_4_0\n",
      "                                                                                \r"
     ]
    },
    {
     "name": "stdout",
     "output_type": "stream",
     "text": [
      "Iteration 0, Cost: 1.5064344561999052\n"
     ]
    },
    {
     "name": "stderr",
     "output_type": "stream",
     "text": [
      "                                                                                \r"
     ]
    },
    {
     "name": "stdout",
     "output_type": "stream",
     "text": [
      "Iteration 1, Cost: 0.7455361685980132\n"
     ]
    },
    {
     "name": "stderr",
     "output_type": "stream",
     "text": [
      "                                                                                \r"
     ]
    },
    {
     "name": "stdout",
     "output_type": "stream",
     "text": [
      "Iteration 2, Cost: 0.4491058666358347\n"
     ]
    },
    {
     "name": "stderr",
     "output_type": "stream",
     "text": [
      "                                                                                \r"
     ]
    },
    {
     "name": "stdout",
     "output_type": "stream",
     "text": [
      "Iteration 3, Cost: 0.3418193988664206\n"
     ]
    },
    {
     "name": "stderr",
     "output_type": "stream",
     "text": [
      "                                                                                \r"
     ]
    },
    {
     "name": "stdout",
     "output_type": "stream",
     "text": [
      "Iteration 4, Cost: 0.29398719162471226\n"
     ]
    },
    {
     "name": "stderr",
     "output_type": "stream",
     "text": [
      "                                                                                \r"
     ]
    },
    {
     "name": "stdout",
     "output_type": "stream",
     "text": [
      "Iteration 5, Cost: 0.2681576630981871\n"
     ]
    },
    {
     "name": "stderr",
     "output_type": "stream",
     "text": [
      "                                                                                \r"
     ]
    },
    {
     "name": "stdout",
     "output_type": "stream",
     "text": [
      "Iteration 6, Cost: 0.25226351106148315\n"
     ]
    },
    {
     "name": "stderr",
     "output_type": "stream",
     "text": [
      "                                                                                \r"
     ]
    },
    {
     "name": "stdout",
     "output_type": "stream",
     "text": [
      "Iteration 7, Cost: 0.24159520691566388\n"
     ]
    },
    {
     "name": "stderr",
     "output_type": "stream",
     "text": [
      "                                                                                \r"
     ]
    },
    {
     "name": "stdout",
     "output_type": "stream",
     "text": [
      "Iteration 8, Cost: 0.23399108125822288\n"
     ]
    },
    {
     "name": "stderr",
     "output_type": "stream",
     "text": [
      "                                                                                \r"
     ]
    },
    {
     "name": "stdout",
     "output_type": "stream",
     "text": [
      "Iteration 9, Cost: 0.22833027836928302\n"
     ]
    },
    {
     "name": "stderr",
     "output_type": "stream",
     "text": [
      "                                                                                \r"
     ]
    },
    {
     "name": "stdout",
     "output_type": "stream",
     "text": [
      "accuracy: 0.930998\n"
     ]
    },
    {
     "name": "stderr",
     "output_type": "stream",
     "text": [
      "23/12/17 18:15:30 WARN Utils: Service 'SparkUI' could not bind on port 4040. Attempting port 4041.\n",
      "23/12/17 18:15:33 WARN BlockManager: Task 18 already completed, not releasing lock for rdd_4_0\n",
      "                                                                                \r"
     ]
    },
    {
     "name": "stdout",
     "output_type": "stream",
     "text": [
      "Iteration 0, Cost: 1.5064344561999052\n"
     ]
    },
    {
     "name": "stderr",
     "output_type": "stream",
     "text": [
      "                                                                                \r"
     ]
    },
    {
     "name": "stdout",
     "output_type": "stream",
     "text": [
      "Iteration 1, Cost: 0.7455361685980132\n"
     ]
    },
    {
     "name": "stderr",
     "output_type": "stream",
     "text": [
      "                                                                                \r"
     ]
    },
    {
     "name": "stdout",
     "output_type": "stream",
     "text": [
      "Iteration 2, Cost: 0.4491058666358347\n"
     ]
    },
    {
     "name": "stderr",
     "output_type": "stream",
     "text": [
      "                                                                                \r"
     ]
    },
    {
     "name": "stdout",
     "output_type": "stream",
     "text": [
      "Iteration 3, Cost: 0.3418193988664206\n"
     ]
    },
    {
     "name": "stderr",
     "output_type": "stream",
     "text": [
      "                                                                                \r"
     ]
    },
    {
     "name": "stdout",
     "output_type": "stream",
     "text": [
      "Iteration 4, Cost: 0.29398719162471226\n"
     ]
    },
    {
     "name": "stderr",
     "output_type": "stream",
     "text": [
      "                                                                                \r"
     ]
    },
    {
     "name": "stdout",
     "output_type": "stream",
     "text": [
      "Iteration 5, Cost: 0.2681576630981871\n"
     ]
    },
    {
     "name": "stderr",
     "output_type": "stream",
     "text": [
      "                                                                                \r"
     ]
    },
    {
     "name": "stdout",
     "output_type": "stream",
     "text": [
      "Iteration 6, Cost: 0.25226351106148315\n"
     ]
    },
    {
     "name": "stderr",
     "output_type": "stream",
     "text": [
      "                                                                                \r"
     ]
    },
    {
     "name": "stdout",
     "output_type": "stream",
     "text": [
      "Iteration 7, Cost: 0.24159520691566388\n"
     ]
    },
    {
     "name": "stderr",
     "output_type": "stream",
     "text": [
      "                                                                                \r"
     ]
    },
    {
     "name": "stdout",
     "output_type": "stream",
     "text": [
      "Iteration 8, Cost: 0.23399108125822288\n"
     ]
    },
    {
     "name": "stderr",
     "output_type": "stream",
     "text": [
      "                                                                                \r"
     ]
    },
    {
     "name": "stdout",
     "output_type": "stream",
     "text": [
      "Iteration 9, Cost: 0.22833027836928302\n"
     ]
    },
    {
     "name": "stderr",
     "output_type": "stream",
     "text": [
      "                                                                                \r"
     ]
    },
    {
     "name": "stdout",
     "output_type": "stream",
     "text": [
      "accuracy: 0.930998\n"
     ]
    },
    {
     "name": "stderr",
     "output_type": "stream",
     "text": [
      "23/12/17 18:15:51 WARN Utils: Service 'SparkUI' could not bind on port 4040. Attempting port 4041.\n",
      "23/12/17 18:15:54 WARN BlockManager: Task 18 already completed, not releasing lock for rdd_4_0\n",
      "                                                                                \r"
     ]
    },
    {
     "name": "stdout",
     "output_type": "stream",
     "text": [
      "Iteration 0, Cost: 1.5064344561999052\n"
     ]
    },
    {
     "name": "stderr",
     "output_type": "stream",
     "text": [
      "                                                                                \r"
     ]
    },
    {
     "name": "stdout",
     "output_type": "stream",
     "text": [
      "Iteration 1, Cost: 0.7455361685980132\n"
     ]
    },
    {
     "name": "stderr",
     "output_type": "stream",
     "text": [
      "                                                                                \r"
     ]
    },
    {
     "name": "stdout",
     "output_type": "stream",
     "text": [
      "Iteration 2, Cost: 0.4491058666358347\n"
     ]
    },
    {
     "name": "stderr",
     "output_type": "stream",
     "text": [
      "                                                                                \r"
     ]
    },
    {
     "name": "stdout",
     "output_type": "stream",
     "text": [
      "Iteration 3, Cost: 0.3418193988664206\n"
     ]
    },
    {
     "name": "stderr",
     "output_type": "stream",
     "text": [
      "                                                                                \r"
     ]
    },
    {
     "name": "stdout",
     "output_type": "stream",
     "text": [
      "Iteration 4, Cost: 0.29398719162471226\n"
     ]
    },
    {
     "name": "stderr",
     "output_type": "stream",
     "text": [
      "                                                                                \r"
     ]
    },
    {
     "name": "stdout",
     "output_type": "stream",
     "text": [
      "Iteration 5, Cost: 0.2681576630981871\n"
     ]
    },
    {
     "name": "stderr",
     "output_type": "stream",
     "text": [
      "                                                                                \r"
     ]
    },
    {
     "name": "stdout",
     "output_type": "stream",
     "text": [
      "Iteration 6, Cost: 0.25226351106148315\n"
     ]
    },
    {
     "name": "stderr",
     "output_type": "stream",
     "text": [
      "                                                                                \r"
     ]
    },
    {
     "name": "stdout",
     "output_type": "stream",
     "text": [
      "Iteration 7, Cost: 0.24159520691566388\n"
     ]
    },
    {
     "name": "stderr",
     "output_type": "stream",
     "text": [
      "                                                                                \r"
     ]
    },
    {
     "name": "stdout",
     "output_type": "stream",
     "text": [
      "Iteration 8, Cost: 0.23399108125822288\n"
     ]
    },
    {
     "name": "stderr",
     "output_type": "stream",
     "text": [
      "                                                                                \r"
     ]
    },
    {
     "name": "stdout",
     "output_type": "stream",
     "text": [
      "Iteration 9, Cost: 0.22833027836928302\n",
      "accuracy: 0.930998\n"
     ]
    },
    {
     "name": "stderr",
     "output_type": "stream",
     "text": [
      "23/12/17 18:16:13 WARN Utils: Service 'SparkUI' could not bind on port 4040. Attempting port 4041.\n",
      "23/12/17 18:16:16 WARN BlockManager: Task 18 already completed, not releasing lock for rdd_4_0\n",
      "                                                                                \r"
     ]
    },
    {
     "name": "stdout",
     "output_type": "stream",
     "text": [
      "Iteration 0, Cost: 1.5064344561999052\n"
     ]
    },
    {
     "name": "stderr",
     "output_type": "stream",
     "text": [
      "                                                                                \r"
     ]
    },
    {
     "name": "stdout",
     "output_type": "stream",
     "text": [
      "Iteration 1, Cost: 0.7455361685980132\n"
     ]
    },
    {
     "name": "stderr",
     "output_type": "stream",
     "text": [
      "                                                                                \r"
     ]
    },
    {
     "name": "stdout",
     "output_type": "stream",
     "text": [
      "Iteration 2, Cost: 0.4491058666358347\n"
     ]
    },
    {
     "name": "stderr",
     "output_type": "stream",
     "text": [
      "                                                                                \r"
     ]
    },
    {
     "name": "stdout",
     "output_type": "stream",
     "text": [
      "Iteration 3, Cost: 0.3418193988664206\n"
     ]
    },
    {
     "name": "stderr",
     "output_type": "stream",
     "text": [
      "                                                                                \r"
     ]
    },
    {
     "name": "stdout",
     "output_type": "stream",
     "text": [
      "Iteration 4, Cost: 0.29398719162471226\n"
     ]
    },
    {
     "name": "stderr",
     "output_type": "stream",
     "text": [
      "                                                                                \r"
     ]
    },
    {
     "name": "stdout",
     "output_type": "stream",
     "text": [
      "Iteration 5, Cost: 0.2681576630981871\n"
     ]
    },
    {
     "name": "stderr",
     "output_type": "stream",
     "text": [
      "                                                                                \r"
     ]
    },
    {
     "name": "stdout",
     "output_type": "stream",
     "text": [
      "Iteration 6, Cost: 0.25226351106148315\n"
     ]
    },
    {
     "name": "stderr",
     "output_type": "stream",
     "text": [
      "                                                                                \r"
     ]
    },
    {
     "name": "stdout",
     "output_type": "stream",
     "text": [
      "Iteration 7, Cost: 0.24159520691566388\n"
     ]
    },
    {
     "name": "stderr",
     "output_type": "stream",
     "text": [
      "                                                                                \r"
     ]
    },
    {
     "name": "stdout",
     "output_type": "stream",
     "text": [
      "Iteration 8, Cost: 0.23399108125822288\n"
     ]
    },
    {
     "name": "stderr",
     "output_type": "stream",
     "text": [
      "                                                                                \r"
     ]
    },
    {
     "name": "stdout",
     "output_type": "stream",
     "text": [
      "Iteration 9, Cost: 0.22833027836928302\n",
      "accuracy: 0.930998\n"
     ]
    },
    {
     "name": "stderr",
     "output_type": "stream",
     "text": [
      "                                                                                \r"
     ]
    }
   ],
   "source": [
    "import sys\n",
    "import pyspark\n",
    "import matplotlib.pyplot as plt\n",
    "import time\n",
    "\n",
    "os.environ[\"PYSPARK_PYTHON\"] = sys.executable\n",
    "os.environ[\"PYSPARK_DRIVER_PYTHON\"] = sys.executable\n",
    "execution_times = []\n",
    "speed_up = []\n",
    "for i in range (1,13):\n",
    "    start_time = time.time()\n",
    "    number_cores = i\n",
    "    conf = (\n",
    "        pyspark.SparkConf()\n",
    "        .setMaster('local[{}]'.format(number_cores))\n",
    "    )\n",
    "    sc = pyspark.SparkContext(conf=conf)\n",
    "    # read data\n",
    "    data = readFile(\"/data/botnet_tot_syn_l.csv\")\n",
    "    # standardize\n",
    "    data = normalize(data)\n",
    "    # optimize performance\n",
    "    data_cached = data.cache()\n",
    "    # train\n",
    "    weights, bias = train(data_cached, 10, 1.5, 0.05)\n",
    "    # accuracy\n",
    "    accuracy_result = accuracy(weights, bias, data_cached)\n",
    "    print(\"accuracy:\", accuracy_result)\n",
    "    execution_times.append(time.time() - start_time)\n",
    "    if i == 12:\n",
    "        metrics_for_thresholds = compute_metrics(data_cached, weights, bias)\n",
    "    sc.stop()\n",
    "num_workers = list(range(1, len(execution_times)+1))\n"
   ]
  },
  {
   "cell_type": "code",
   "execution_count": 8,
   "id": "dd27e421a46519e",
   "metadata": {
    "collapsed": false,
    "ExecuteTime": {
     "end_time": "2023-12-17T17:16:40.390804Z",
     "start_time": "2023-12-17T17:16:40.106381Z"
    }
   },
   "outputs": [
    {
     "data": {
      "text/plain": "<Figure size 640x480 with 1 Axes>",
      "image/png": "[encoded data removed]"
     },
     "metadata": {},
     "output_type": "display_data"
    }
   ],
   "source": [
    "plt.plot(num_workers, execution_times, marker='o', linestyle='-')\n",
    "plt.xlabel('Number of Workers')  # Label for x-axis\n",
    "plt.ylabel('Execution Time (s)')  # Label for y-axis\n",
    "plt.title('Execution Time vs Number of Workers')  # Title for the plot\n",
    "plt.grid(True)  # Show grid lines\n",
    "plt.show()"
   ]
  },
  {
   "cell_type": "code",
   "execution_count": 9,
   "id": "de9315c51f37976",
   "metadata": {
    "collapsed": false,
    "ExecuteTime": {
     "end_time": "2023-12-17T17:16:40.391043Z",
     "start_time": "2023-12-17T17:16:40.331078Z"
    }
   },
   "outputs": [
    {
     "data": {
      "text/plain": "<Figure size 640x480 with 1 Axes>",
      "image/png": "[encoded data removed]"
     },
     "metadata": {},
     "output_type": "display_data"
    }
   ],
   "source": [
    "for i in range(0,len(execution_times)):\n",
    "    speed_up.append(execution_times[0]/execution_times[i])\n",
    "plt.plot(num_workers, speed_up, marker='o', linestyle='-')\n",
    "plt.xlabel('Number of Workers')  # Label for x-axis\n",
    "plt.ylabel('Speed Up')  # Label for y-axis\n",
    "plt.title('Speed Up vs Number of Workers')  # Title for the plot\n",
    "plt.grid(True)  # Show grid lines\n",
    "plt.show()"
   ]
  },
  {
   "cell_type": "code",
   "execution_count": 10,
   "id": "be4f9c8a",
   "metadata": {
    "ExecuteTime": {
     "end_time": "2023-12-17T17:16:40.577358Z",
     "start_time": "2023-12-17T17:16:40.389945Z"
    }
   },
   "outputs": [
    {
     "data": {
      "text/plain": "<Figure size 640x480 with 1 Axes>",
      "image/png": "[encoded data removed]"
     },
     "metadata": {},
     "output_type": "display_data"
    },
    {
     "data": {
      "text/plain": "<Figure size 640x480 with 1 Axes>",
      "image/png": "[encoded data removed]"
     },
     "metadata": {},
     "output_type": "display_data"
    },
    {
     "name": "stdout",
     "output_type": "stream",
     "text": [
      "threshold: 0.1\n",
      "TP: 498734\n",
      "FP: 220063\n",
      "TN: 279937\n",
      "FN: 1266\n",
      "accuracy: 0.778671\n",
      "precision: 0.6938454111522446\n",
      "recall: 0.997468\n",
      "F1: 0.8184037210462447\n",
      "\n",
      "threshold: 0.2\n",
      "TP: 495443\n",
      "FP: 133998\n",
      "TN: 366002\n",
      "FN: 4557\n",
      "accuracy: 0.861445\n",
      "precision: 0.7871158694778383\n",
      "recall: 0.990886\n",
      "F1: 0.877324269262405\n",
      "\n",
      "threshold: 0.3\n",
      "TP: 489957\n",
      "FP: 89783\n",
      "TN: 410217\n",
      "FN: 10043\n",
      "accuracy: 0.900174\n",
      "precision: 0.8451323006865147\n",
      "recall: 0.979914\n",
      "F1: 0.9075462611369404\n",
      "\n",
      "threshold: 0.4\n",
      "TP: 482392\n",
      "FP: 61153\n",
      "TN: 438847\n",
      "FN: 17608\n",
      "accuracy: 0.921239\n",
      "precision: 0.8874922959460578\n",
      "recall: 0.964784\n",
      "F1: 0.9245255355542885\n",
      "\n",
      "threshold: 0.5\n",
      "TP: 471848\n",
      "FP: 40850\n",
      "TN: 459150\n",
      "FN: 28152\n",
      "accuracy: 0.930998\n",
      "precision: 0.9203234652758544\n",
      "recall: 0.943696\n",
      "F1: 0.9318632010727779\n",
      "\n",
      "threshold: 0.6\n",
      "TP: 456648\n",
      "FP: 25813\n",
      "TN: 474187\n",
      "FN: 43352\n",
      "accuracy: 0.930835\n",
      "precision: 0.9464972298279032\n",
      "recall: 0.913296\n",
      "F1: 0.9296002589415763\n",
      "\n",
      "threshold: 0.7\n",
      "TP: 427903\n",
      "FP: 14772\n",
      "TN: 485228\n",
      "FN: 72097\n",
      "accuracy: 0.913131\n",
      "precision: 0.9666301462698368\n",
      "recall: 0.855806\n",
      "F1: 0.9078484101095287\n",
      "\n",
      "threshold: 0.8\n",
      "TP: 371003\n",
      "FP: 6698\n",
      "TN: 493302\n",
      "FN: 128997\n",
      "accuracy: 0.864305\n",
      "precision: 0.9822663959057562\n",
      "recall: 0.742006\n",
      "F1: 0.8453972366443698\n",
      "\n",
      "threshold: 0.9\n",
      "TP: 256147\n",
      "FP: 1713\n",
      "TN: 498287\n",
      "FN: 243853\n",
      "accuracy: 0.754434\n",
      "precision: 0.9933568603117972\n",
      "recall: 0.512294\n",
      "F1: 0.6759744543847149\n"
     ]
    }
   ],
   "source": [
    "TP = []\n",
    "FP = []\n",
    "TN = []\n",
    "FN = []\n",
    "\n",
    "for threshold, metrics in metrics_for_thresholds.items():\n",
    "    TP.append(metrics[0])\n",
    "    FP.append(metrics[1])\n",
    "    TN.append(metrics[2])\n",
    "    FN.append(metrics[3])\n",
    "\n",
    "TP = np.array(TP)\n",
    "FP = np.array(FP)\n",
    "TN = np.array(TN)\n",
    "FN = np.array(FN)\n",
    "#Accuracy\n",
    "accuracy = (TP + TN) / (TP + FP + TN + FN)\n",
    "#Precision\n",
    "precision = TP / (TP + FP)\n",
    "#Recall\n",
    "recall = TP / (TP + FN)\n",
    "#F1\n",
    "F1 = 2 * precision * recall / (precision + recall)\n",
    "#ROC\n",
    "TPR = TP / (TP + FN)\n",
    "FPR = FP / (FP + TN)\n",
    "plt.plot(FPR, TPR, marker='o')\n",
    "plt.title('ROC Curve')\n",
    "plt.xlabel('False Positive Rate')\n",
    "plt.ylabel('True Positive Rate')\n",
    "plt.grid(True)\n",
    "plt.show()\n",
    "#Precision-Recall\n",
    "plt.plot(recall, precision, marker='o')\n",
    "plt.title('Precision-Recall Curve')\n",
    "plt.xlabel('Recall')\n",
    "plt.ylabel('Precision')\n",
    "plt.grid(True)\n",
    "plt.show()\n",
    "#plot confusion matrix\n",
    "for i in range(9):\n",
    "    print(\"threshold:\", (i+1)/10)\n",
    "    print(\"TP:\", TP[i])\n",
    "    print(\"FP:\", FP[i])\n",
    "    print(\"TN:\", TN[i])\n",
    "    print(\"FN:\", FN[i])\n",
    "    print(\"accuracy:\", accuracy[i])\n",
    "    print(\"precision:\", precision[i])\n",
    "    print(\"recall:\", recall[i])\n",
    "    print(\"F1:\", F1[i])\n",
    "    print(\"\")\n"
   ]
  },
  {
   "cell_type": "code",
   "execution_count": 10,
   "id": "f30a06ec",
   "metadata": {
    "ExecuteTime": {
     "end_time": "2023-12-17T17:16:40.577697Z",
     "start_time": "2023-12-17T17:16:40.490894Z"
    }
   },
   "outputs": [],
   "source": []
  }
 ],
 "metadata": {
  "kernelspec": {
   "display_name": "Python 3",
   "language": "python",
   "name": "python3"
  },
  "language_info": {
   "codemirror_mode": {
    "name": "ipython",
    "version": 3
   },
   "file_extension": ".py",
   "mimetype": "text/x-python",
   "name": "python",
   "nbconvert_exporter": "python",
   "pygments_lexer": "ipython3",
   "version": "3.9.18"
  }
 },
 "nbformat": 4,
 "nbformat_minor": 5
}
