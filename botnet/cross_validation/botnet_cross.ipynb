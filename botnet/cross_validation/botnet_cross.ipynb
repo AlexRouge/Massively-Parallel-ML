{
 "cells": [
  {
   "cell_type": "markdown",
   "source": [
    "# Botnet Logistic Regression Classifier\n",
    "\n",
    "Cross Validation implementation of logistic regression for classification."
   ],
   "metadata": {
    "collapsed": false
   }
  },
  {
   "cell_type": "markdown",
   "source": [
    "### Preprocessing\n",
    "\n",
    "The `readFile` function in Python uses PySpark to read data from a specified file, process it, and return it as an RDD. Each row in the file is transformed into a record consisting of a tuple, where the first element is a list of 11 floating-point feature values, and the second element is an integer label (0 or 1). "
   ],
   "metadata": {
    "collapsed": false
   }
  },
  {
   "cell_type": "code",
   "execution_count": 24,
   "metadata": {
    "ExecuteTime": {
     "end_time": "2023-12-17T19:43:07.162028Z",
     "start_time": "2023-12-17T19:43:07.139628Z"
    }
   },
   "outputs": [],
   "source": [
    "import os\n",
    "from pyspark import SparkContext\n",
    "\n",
    "\n",
    "def readFile(filename):\n",
    "    \"\"\"\n",
    "    Return an RDD containing the data of filename.\n",
    "    Each example (row) of the file corresponds to one RDD record.\n",
    "    Each record of the RDD is a tuple (X,y). “X” is an array containing the 11\n",
    "    features (float number) of an example\n",
    "    “y” is the 12th column of an example (integer 0/1)\n",
    "    \"\"\"\n",
    "\n",
    "    current_directory = os.getcwd()\n",
    "    parent_directory = os.path.dirname(current_directory)\n",
    "    sc = SparkContext.getOrCreate()\n",
    "    data = sc.textFile(parent_directory + \"/\" + filename)\n",
    "    processed_data = data.map(lambda line: line.split(\",\")).map(\n",
    "        lambda cols: ([float(x) for x in cols[:11]], float(cols[11]))\n",
    "    )\n",
    "    return processed_data\n"
   ]
  },
  {
   "cell_type": "markdown",
   "source": [
    "### Normalizing\n",
    "\n",
    "The `normalize` function, using PySpark, takes an RDD as input and normalizes its features. It first calculates the total number of samples, then proceeds to compute the sum and sum of squares for each feature across all samples. Utilizing the map and reduce functions, it aggregates these values to calculate the mean and variance for each feature. It then computes the standard deviation, handling cases to avoid division by zero. The mean and standard deviation are broadcasted to all nodes. Finally, it applies normalization to each record (feature vector) in the RDD, adjusting each feature to have a mean of 0 and a standard deviation of 1, and returns the normalized RDD."
   ],
   "metadata": {
    "collapsed": false
   }
  },
  {
   "cell_type": "code",
   "execution_count": 25,
   "metadata": {
    "ExecuteTime": {
     "end_time": "2023-12-17T19:43:07.163732Z",
     "start_time": "2023-12-17T19:43:07.142481Z"
    }
   },
   "outputs": [],
   "source": [
    "import numpy as np\n",
    "\n",
    "def normalize(RDD_Xy):\n",
    "    sc = SparkContext.getOrCreate()\n",
    "\n",
    "    number_of_samples = RDD_Xy.count()\n",
    "\n",
    "    # Function to compute sum and sum of squares for each feature\n",
    "    def compute_sum_and_squares(record):\n",
    "        X, _ = record\n",
    "        return (np.array(X), np.array(X) ** 2)\n",
    "\n",
    "    # Aggregate the sum and sum of squares for each feature, and count the examples\n",
    "    sum_squares_count = RDD_Xy.map(compute_sum_and_squares).reduce(\n",
    "        lambda a, b: (a[0] + b[0], a[1] + b[1])\n",
    "    )\n",
    "\n",
    "    # Calculate the mean and variance for each feature\n",
    "    mean = sum_squares_count[0] / number_of_samples\n",
    "    variance = (sum_squares_count[1] / number_of_samples) - mean**2\n",
    "    std_dev = np.sqrt(variance)\n",
    "\n",
    "    # Replace zeros in standard deviation with ones to avoid division by zero\n",
    "    std_dev[std_dev == 0] = 1\n",
    "\n",
    "    # Broadcast the mean and std_dev to all the nodes\n",
    "    broadcast_mean = sc.broadcast(mean)\n",
    "    broadcast_std_dev = sc.broadcast(std_dev)\n",
    "\n",
    "    # Function to normalize features\n",
    "    def normalize_features(record):\n",
    "        X, y = record\n",
    "        X_normalized = (X - broadcast_mean.value) / broadcast_std_dev.value\n",
    "        return (X_normalized, y)\n",
    "\n",
    "    # Normalize each feature and return the new RDD\n",
    "    return RDD_Xy.map(normalize_features)\n"
   ]
  },
  {
   "cell_type": "markdown",
   "source": [
    "### Transform\n",
    "\n",
    "The `transform` function in Python, using PySpark, adds a random index between 0 and `num_blocks - 1` to each record in an RDD, effectively assigning each record to a random fold for cross-validation. It achieves this through the `map` function, which applies the `add_index` nested function to each record, returning a new RDD where each element is a tuple of the original record and its randomly assigned index."
   ],
   "metadata": {
    "collapsed": false
   }
  },
  {
   "cell_type": "code",
   "execution_count": 26,
   "metadata": {
    "ExecuteTime": {
     "end_time": "2023-12-17T19:43:07.165161Z",
     "start_time": "2023-12-17T19:43:07.145452Z"
    }
   },
   "outputs": [],
   "source": [
    "import random\n",
    "\n",
    "def transform(RDD_Xy, num_blocks):\n",
    "    # Function to assign a random index to each record\n",
    "    def add_index(record):\n",
    "        # Randomly select an index between 0 and num_blocks - 1\n",
    "        index = random.randint(0, num_blocks - 1)\n",
    "        # Return a new record with the index added\n",
    "        return (record, index)\n",
    "\n",
    "    # Map each record in the RDD to include a random fold index\n",
    "    RDD_tranformed = RDD_Xy.map(add_index)\n",
    "    return RDD_tranformed\n"
   ]
  },
  {
   "cell_type": "markdown",
   "source": [
    "### Get Block Data\n",
    "\n",
    "The `get_block_data` function in Python, using PySpark, splits an RDD into two subsets based on a specified block number. It creates training data (`tr_data`) by excluding records with the given block number, and testing data (`test_data`) by including only records with that block number, using the `flatMap` function for filtering."
   ],
   "metadata": {
    "collapsed": false
   }
  },
  {
   "cell_type": "code",
   "execution_count": 27,
   "metadata": {
    "ExecuteTime": {
     "end_time": "2023-12-17T19:43:07.171026Z",
     "start_time": "2023-12-17T19:43:07.146943Z"
    }
   },
   "outputs": [],
   "source": [
    "def get_block_data(data_cv, block_numb):\n",
    "    \"\"\"\n",
    "    Splits the input RDD into two RDDs based on the index value.\n",
    "\n",
    "    :param data_cv: An RDD where each row is a list of size 11, y, and index.\n",
    "    :param block_numb: The block number to split the RDD.\n",
    "    :return: A tuple of two RDDs (tr_data, test_data).\n",
    "    \"\"\"\n",
    "\n",
    "    # Split the data into two RDDs based on the index value\n",
    "\n",
    "    def filter_block_train(record):\n",
    "        if record[1] != block_numb:\n",
    "            return [record[0]]\n",
    "        else:\n",
    "            return []\n",
    "\n",
    "    def filter_block_test(record):\n",
    "        if record[1] == block_numb:\n",
    "            return [record[0]]\n",
    "        else:\n",
    "            return []\n",
    "\n",
    "    tr_data = data_cv.flatMap(filter_block_train)\n",
    "    test_data = data_cv.flatMap(filter_block_test)\n",
    "\n",
    "    return tr_data, test_data\n"
   ]
  },
  {
   "cell_type": "markdown",
   "source": [
    "### Training\n",
    "\n",
    "The `train` function in PySpark performs logistic regression training on an RDD. It iterates through a specified number of iterations, broadcasting weights and bias, computing gradients, and updating the model parameters using gradient descent. Auxiliary functions `compute_gradients` and `compute_cost` calculate gradients and cost for each data point, aiding in weight updates and cost monitoring for each iteration. The function is designed for distributed execution in a Spark environment."
   ],
   "metadata": {
    "collapsed": false
   }
  },
  {
   "cell_type": "code",
   "execution_count": 28,
   "metadata": {
    "ExecuteTime": {
     "end_time": "2023-12-17T19:43:07.173310Z",
     "start_time": "2023-12-17T19:43:07.153596Z"
    }
   },
   "outputs": [],
   "source": [
    "def train(RDD_Xy, iterations, learning_rate, lambda_reg):\n",
    "    sc = SparkContext.getOrCreate()\n",
    "\n",
    "    # Number of features (assuming all records have the same number of features)\n",
    "    k = len(RDD_Xy.first()[0])\n",
    "    m = RDD_Xy.count()  # Total number of examples\n",
    "\n",
    "    np.random.seed(0)  # For reproducibility\n",
    "    w = np.random.rand(k)  # Weight vector\n",
    "    b = np.random.rand()  # Bias term\n",
    "\n",
    "    for i in range(iterations):\n",
    "        # Broadcast weights and bias\n",
    "        broadcast_w = sc.broadcast(w)\n",
    "        broadcast_b = sc.broadcast(b)\n",
    "\n",
    "        # Compute gradients\n",
    "        gradients = RDD_Xy.map(\n",
    "            lambda x: compute_gradients(x, broadcast_w.value, broadcast_b.value, k)\n",
    "        ).reduce(lambda a, b: (a[0] + b[0], a[1] + b[1]))\n",
    "\n",
    "        # Update weights and bias\n",
    "        w -= learning_rate * ((1 / m) * gradients[0] + (lambda_reg / k) * w)\n",
    "        b -= learning_rate * (\n",
    "            (1 / m) * gradients[1] + ((lambda_reg / (2 * k)) * np.sum(w**2))\n",
    "        )\n",
    "\n",
    "        # Optional: Print cost for monitoring (not recommended for large datasets)\n",
    "        cost = RDD_Xy.map(\n",
    "            lambda x: compute_cost(x, broadcast_w.value, broadcast_b.value, k)\n",
    "        ).reduce(lambda x, y: x + y)\n",
    "        cost = (-1 / m) * cost\n",
    "        cost += (lambda_reg / (2 * k)) * np.sum(w**2)\n",
    "        \n",
    "    return w, b\n",
    "\n",
    "\n",
    "def compute_gradients(record, w, b, k):\n",
    "    X, y = record\n",
    "    z = 0\n",
    "    for i in range(k):\n",
    "        z += X[i] * w[i]\n",
    "    z += b\n",
    "    y_hat = 1 / (1 + np.exp(-z))\n",
    "    dw = (y_hat - y) * X\n",
    "    db = np.sum(y_hat - y)\n",
    "    return dw, db\n",
    "\n",
    "\n",
    "def compute_cost(record, w, b, k):\n",
    "    X, y = record\n",
    "    z = 0\n",
    "    for i in range(k):\n",
    "        z += X[i] * w[i]\n",
    "    z += b\n",
    "    y_hat = 1 / (1 + np.exp(-z))\n",
    "    cost = y * np.log(y_hat) + (1 - y) * np.log(1 - y_hat)\n",
    "    return cost\n"
   ]
  },
  {
   "cell_type": "markdown",
   "source": [
    "### Predict\n",
    "\n",
    "The `predict` function computes a logistic regression prediction for a given feature vector `X` using provided weights `w` and bias `b`. It calculates the linear combination of features and weights, adds the bias, then applies the sigmoid function to determine the probability of the instance belonging to the positive class. Based on this probability, it returns a binary class label (0 or 1)."
   ],
   "metadata": {
    "collapsed": false
   }
  },
  {
   "cell_type": "code",
   "execution_count": 29,
   "outputs": [],
   "source": [
    "def predict(w, b, X):\n",
    "    # Initialize the sum\n",
    "    z = 0\n",
    "    # Iterate over the weights and corresponding features\n",
    "    for i in range(len(w)):\n",
    "        z += w[i] * X[i]\n",
    "        # Add the bias term\n",
    "    z += b\n",
    "\n",
    "    # compact way to calculate it z = np.dot(w, X) + b\n",
    "\n",
    "    # Apply the sigmoid function to get the probability\n",
    "    p = 1 / (1 + np.exp(-z))\n",
    "    # Predict the class label (0 or 1) based on the probability\n",
    "    if p >= 0.5:\n",
    "        return 1\n",
    "    else:\n",
    "        return 0\n"
   ],
   "metadata": {
    "collapsed": false,
    "ExecuteTime": {
     "end_time": "2023-12-17T19:43:07.195083Z",
     "start_time": "2023-12-17T19:43:07.155864Z"
    }
   }
  },
  {
   "cell_type": "markdown",
   "source": [
    "### Accuracy\n",
    "\n",
    "The `accuracy` function evaluates the performance of a logistic regression model on an RDD dataset by calculating its accuracy. It maps each record in the RDD to 1 or 0, based on whether the model's prediction matches the actual label, using the `predict` function. The function then sums these values using `reduce` to count correct predictions and divides this sum by the total number of records in the RDD to compute the overall accuracy."
   ],
   "metadata": {
    "collapsed": false
   }
  },
  {
   "cell_type": "code",
   "execution_count": 30,
   "metadata": {
    "ExecuteTime": {
     "end_time": "2023-12-17T19:43:07.196880Z",
     "start_time": "2023-12-17T19:43:07.158549Z"
    }
   },
   "outputs": [],
   "source": [
    "def accuracy(w, b, RDD_xy):\n",
    "    prediction_results = RDD_xy.map(\n",
    "        lambda record: 1 if predict(w, b, record[0]) == record[1] else 0\n",
    "    )\n",
    "\n",
    "    # Step 2: Use reduce to sum up the correct predictions\n",
    "    correctly_classified = prediction_results.reduce(lambda a, b: a + b)\n",
    "\n",
    "    # Step 4: Calculate accuracy\n",
    "    accuracy = correctly_classified / RDD_xy.count()\n",
    "    return accuracy\n"
   ]
  },
  {
   "cell_type": "markdown",
   "source": [
    "### Testing\n",
    "\n",
    "This Python script, designed to be run with PySpark, measures the performance of a machine learning workflow with varying numbers of cores. It sets up the Spark environment, reads and normalizes data, then performs 10-fold cross-validation using a logistic regression model, calculating accuracy for each fold. The script iterates over two different numbers of cores (12 and 15) to measure execution times, which are recorded in `execution_times`. After each run, SparkContext is stopped and reinitialized with a different configuration. The script aims to evaluate the impact of parallelization on the overall execution time of the machine learning workflow."
   ],
   "metadata": {
    "collapsed": false
   }
  },
  {
   "cell_type": "code",
   "execution_count": 31,
   "metadata": {
    "ExecuteTime": {
     "end_time": "2023-12-17T19:55:31.779556Z",
     "start_time": "2023-12-17T19:43:07.161879Z"
    }
   },
   "outputs": [
    {
     "name": "stderr",
     "output_type": "stream",
     "text": [
      "23/12/17 20:43:07 WARN Utils: Service 'SparkUI' could not bind on port 4040. Attempting port 4041.\n",
      "23/12/17 20:43:12 WARN BlockManager: Task 18 already completed, not releasing lock for rdd_5_0\n",
      "                                                                                \r"
     ]
    },
    {
     "name": "stdout",
     "output_type": "stream",
     "text": [
      "accuracy: 0.9327865733369384\n",
      "------------------------------------------------------\n"
     ]
    },
    {
     "name": "stderr",
     "output_type": "stream",
     "text": [
      "23/12/17 20:43:53 WARN BlockManager: Task 226 already completed, not releasing lock for rdd_31_0\n",
      "                                                                                \r"
     ]
    },
    {
     "name": "stdout",
     "output_type": "stream",
     "text": [
      "accuracy: 0.9307759302453625\n",
      "------------------------------------------------------\n"
     ]
    },
    {
     "name": "stderr",
     "output_type": "stream",
     "text": [
      "23/12/17 20:44:31 WARN BlockManager: Task 434 already completed, not releasing lock for rdd_57_0\n",
      "                                                                                \r"
     ]
    },
    {
     "name": "stdout",
     "output_type": "stream",
     "text": [
      "accuracy: 0.9301362636487603\n",
      "------------------------------------------------------\n"
     ]
    },
    {
     "name": "stderr",
     "output_type": "stream",
     "text": [
      "23/12/17 20:45:09 WARN BlockManager: Task 642 already completed, not releasing lock for rdd_83_0\n",
      "                                                                                \r"
     ]
    },
    {
     "name": "stdout",
     "output_type": "stream",
     "text": [
      "accuracy: 0.9301395601193646\n",
      "------------------------------------------------------\n"
     ]
    },
    {
     "name": "stderr",
     "output_type": "stream",
     "text": [
      "23/12/17 20:45:47 WARN BlockManager: Task 850 already completed, not releasing lock for rdd_109_0\n",
      "                                                                                \r"
     ]
    },
    {
     "name": "stdout",
     "output_type": "stream",
     "text": [
      "accuracy: 0.9306061576650518\n",
      "------------------------------------------------------\n"
     ]
    },
    {
     "name": "stderr",
     "output_type": "stream",
     "text": [
      "23/12/17 20:46:26 WARN BlockManager: Task 1058 already completed, not releasing lock for rdd_135_0\n",
      "                                                                                \r"
     ]
    },
    {
     "name": "stdout",
     "output_type": "stream",
     "text": [
      "accuracy: 0.9300329116935644\n",
      "------------------------------------------------------\n"
     ]
    },
    {
     "name": "stderr",
     "output_type": "stream",
     "text": [
      "23/12/17 20:47:04 WARN BlockManager: Task 1266 already completed, not releasing lock for rdd_161_0\n",
      "                                                                                \r"
     ]
    },
    {
     "name": "stdout",
     "output_type": "stream",
     "text": [
      "accuracy: 0.9294500070228946\n",
      "------------------------------------------------------\n"
     ]
    },
    {
     "name": "stderr",
     "output_type": "stream",
     "text": [
      "23/12/17 20:47:41 WARN BlockManager: Task 1474 already completed, not releasing lock for rdd_187_0\n",
      "                                                                                \r"
     ]
    },
    {
     "name": "stdout",
     "output_type": "stream",
     "text": [
      "accuracy: 0.9327572914685063\n",
      "------------------------------------------------------\n"
     ]
    },
    {
     "name": "stderr",
     "output_type": "stream",
     "text": [
      "23/12/17 20:48:19 WARN BlockManager: Task 1682 already completed, not releasing lock for rdd_213_0\n",
      "                                                                                \r"
     ]
    },
    {
     "name": "stdout",
     "output_type": "stream",
     "text": [
      "accuracy: 0.9314606516692018\n",
      "------------------------------------------------------\n"
     ]
    },
    {
     "name": "stderr",
     "output_type": "stream",
     "text": [
      "23/12/17 20:48:57 WARN BlockManager: Task 1890 already completed, not releasing lock for rdd_239_0\n",
      "                                                                                \r"
     ]
    },
    {
     "name": "stdout",
     "output_type": "stream",
     "text": [
      "accuracy: 0.9317524927742051\n",
      "------------------------------------------------------\n",
      "average accuracy: 0.9309897839643849\n"
     ]
    },
    {
     "name": "stderr",
     "output_type": "stream",
     "text": [
      "23/12/17 20:49:36 WARN Utils: Service 'SparkUI' could not bind on port 4040. Attempting port 4041.\n",
      "23/12/17 20:49:39 WARN BlockManager: Task 18 already completed, not releasing lock for rdd_5_0\n",
      "                                                                                \r"
     ]
    },
    {
     "name": "stdout",
     "output_type": "stream",
     "text": [
      "accuracy: 0.9315311720698254\n",
      "------------------------------------------------------\n"
     ]
    },
    {
     "name": "stderr",
     "output_type": "stream",
     "text": [
      "23/12/17 20:49:58 WARN BlockManager: Task 226 already completed, not releasing lock for rdd_31_0\n",
      "                                                                                \r"
     ]
    },
    {
     "name": "stdout",
     "output_type": "stream",
     "text": [
      "accuracy: 0.9317293233082706\n",
      "------------------------------------------------------\n"
     ]
    },
    {
     "name": "stderr",
     "output_type": "stream",
     "text": [
      "23/12/17 20:50:15 WARN BlockManager: Task 434 already completed, not releasing lock for rdd_57_0\n",
      "                                                                                \r"
     ]
    },
    {
     "name": "stdout",
     "output_type": "stream",
     "text": [
      "accuracy: 0.9316831881847735\n",
      "------------------------------------------------------\n"
     ]
    },
    {
     "name": "stderr",
     "output_type": "stream",
     "text": [
      "23/12/17 20:50:33 WARN BlockManager: Task 642 already completed, not releasing lock for rdd_83_0\n",
      "                                                                                \r"
     ]
    },
    {
     "name": "stdout",
     "output_type": "stream",
     "text": [
      "accuracy: 0.9317500275808118\n",
      "------------------------------------------------------\n"
     ]
    },
    {
     "name": "stderr",
     "output_type": "stream",
     "text": [
      "23/12/17 20:50:50 WARN BlockManager: Task 850 already completed, not releasing lock for rdd_109_0\n",
      "                                                                                \r"
     ]
    },
    {
     "name": "stdout",
     "output_type": "stream",
     "text": [
      "accuracy: 0.93089852873655\n",
      "------------------------------------------------------\n"
     ]
    },
    {
     "name": "stderr",
     "output_type": "stream",
     "text": [
      "23/12/17 20:51:08 WARN BlockManager: Task 1058 already completed, not releasing lock for rdd_135_0\n",
      "                                                                                \r"
     ]
    },
    {
     "name": "stdout",
     "output_type": "stream",
     "text": [
      "accuracy: 0.9302869650782175\n",
      "------------------------------------------------------\n"
     ]
    },
    {
     "name": "stderr",
     "output_type": "stream",
     "text": [
      "23/12/17 20:51:25 WARN BlockManager: Task 1266 already completed, not releasing lock for rdd_161_0\n",
      "                                                                                \r"
     ]
    },
    {
     "name": "stdout",
     "output_type": "stream",
     "text": [
      "accuracy: 0.9312928232058014\n",
      "------------------------------------------------------\n"
     ]
    },
    {
     "name": "stderr",
     "output_type": "stream",
     "text": [
      "23/12/17 20:51:42 WARN BlockManager: Task 1474 already completed, not releasing lock for rdd_187_0\n",
      "                                                                                \r"
     ]
    },
    {
     "name": "stdout",
     "output_type": "stream",
     "text": [
      "accuracy: 0.9293514575500393\n",
      "------------------------------------------------------\n"
     ]
    },
    {
     "name": "stderr",
     "output_type": "stream",
     "text": [
      "23/12/17 20:52:00 WARN BlockManager: Task 1682 already completed, not releasing lock for rdd_213_0\n",
      "                                                                                \r"
     ]
    },
    {
     "name": "stdout",
     "output_type": "stream",
     "text": [
      "accuracy: 0.9309594539547545\n",
      "------------------------------------------------------\n"
     ]
    },
    {
     "name": "stderr",
     "output_type": "stream",
     "text": [
      "23/12/17 20:52:17 WARN BlockManager: Task 1890 already completed, not releasing lock for rdd_239_0\n",
      "                                                                                \r"
     ]
    },
    {
     "name": "stdout",
     "output_type": "stream",
     "text": [
      "accuracy: 0.9304438307920119\n",
      "------------------------------------------------------\n",
      "average accuracy: 0.9309926770461056\n"
     ]
    },
    {
     "name": "stderr",
     "output_type": "stream",
     "text": [
      "23/12/17 20:52:36 WARN Utils: Service 'SparkUI' could not bind on port 4040. Attempting port 4041.\n",
      "23/12/17 20:52:39 WARN BlockManager: Task 18 already completed, not releasing lock for rdd_5_0\n",
      "                                                                                \r"
     ]
    },
    {
     "name": "stdout",
     "output_type": "stream",
     "text": [
      "accuracy: 0.9307850720779547\n",
      "------------------------------------------------------\n"
     ]
    },
    {
     "name": "stderr",
     "output_type": "stream",
     "text": [
      "23/12/17 20:52:58 WARN BlockManager: Task 226 already completed, not releasing lock for rdd_31_0\n",
      "                                                                                \r"
     ]
    },
    {
     "name": "stdout",
     "output_type": "stream",
     "text": [
      "accuracy: 0.9313909680012056\n",
      "------------------------------------------------------\n"
     ]
    },
    {
     "name": "stderr",
     "output_type": "stream",
     "text": [
      "23/12/17 20:53:16 WARN BlockManager: Task 434 already completed, not releasing lock for rdd_57_0\n",
      "                                                                                \r"
     ]
    },
    {
     "name": "stdout",
     "output_type": "stream",
     "text": [
      "accuracy: 0.9308711273002319\n",
      "------------------------------------------------------\n"
     ]
    },
    {
     "name": "stderr",
     "output_type": "stream",
     "text": [
      "23/12/17 20:53:33 WARN BlockManager: Task 642 already completed, not releasing lock for rdd_83_0\n",
      "                                                                                \r"
     ]
    },
    {
     "name": "stdout",
     "output_type": "stream",
     "text": [
      "accuracy: 0.9309003260456464\n",
      "------------------------------------------------------\n"
     ]
    },
    {
     "name": "stderr",
     "output_type": "stream",
     "text": [
      "23/12/17 20:53:49 WARN BlockManager: Task 850 already completed, not releasing lock for rdd_109_0\n",
      "                                                                                \r"
     ]
    },
    {
     "name": "stdout",
     "output_type": "stream",
     "text": [
      "accuracy: 0.931268527852915\n",
      "------------------------------------------------------\n"
     ]
    },
    {
     "name": "stderr",
     "output_type": "stream",
     "text": [
      "23/12/17 20:54:06 WARN BlockManager: Task 1058 already completed, not releasing lock for rdd_135_0\n",
      "                                                                                \r"
     ]
    },
    {
     "name": "stdout",
     "output_type": "stream",
     "text": [
      "accuracy: 0.931339811277238\n",
      "------------------------------------------------------\n"
     ]
    },
    {
     "name": "stderr",
     "output_type": "stream",
     "text": [
      "23/12/17 20:54:23 WARN BlockManager: Task 1266 already completed, not releasing lock for rdd_161_0\n",
      "                                                                                \r"
     ]
    },
    {
     "name": "stdout",
     "output_type": "stream",
     "text": [
      "accuracy: 0.9307759615002188\n",
      "------------------------------------------------------\n"
     ]
    },
    {
     "name": "stderr",
     "output_type": "stream",
     "text": [
      "23/12/17 20:54:39 WARN BlockManager: Task 1474 already completed, not releasing lock for rdd_187_0\n",
      "                                                                                \r"
     ]
    },
    {
     "name": "stdout",
     "output_type": "stream",
     "text": [
      "accuracy: 0.9309595486353396\n",
      "------------------------------------------------------\n"
     ]
    },
    {
     "name": "stderr",
     "output_type": "stream",
     "text": [
      "23/12/17 20:54:56 WARN BlockManager: Task 1682 already completed, not releasing lock for rdd_213_0\n",
      "                                                                                \r"
     ]
    },
    {
     "name": "stdout",
     "output_type": "stream",
     "text": [
      "accuracy: 0.931402025158624\n",
      "------------------------------------------------------\n"
     ]
    },
    {
     "name": "stderr",
     "output_type": "stream",
     "text": [
      "23/12/17 20:55:14 WARN BlockManager: Task 1890 already completed, not releasing lock for rdd_239_0\n",
      "                                                                                \r"
     ]
    },
    {
     "name": "stdout",
     "output_type": "stream",
     "text": [
      "accuracy: 0.930403369059737\n",
      "------------------------------------------------------\n",
      "average accuracy: 0.9310096736909111\n"
     ]
    }
   ],
   "source": [
    "import sys\n",
    "import pyspark\n",
    "import matplotlib.pyplot as plt\n",
    "import time\n",
    "\n",
    "if __name__ == \"__main__\":\n",
    "    os.environ[\"PYSPARK_PYTHON\"] = sys.executable\n",
    "    os.environ[\"PYSPARK_DRIVER_PYTHON\"] = sys.executable\n",
    "\n",
    "    execution_times = []\n",
    "    speed_up = []\n",
    "    for i in [3,9, 12]:\n",
    "        start_time = time.time()\n",
    "        number_cores = i\n",
    "        conf = (\n",
    "            pyspark.SparkConf()\n",
    "            .setMaster('local[{}]'.format(number_cores))\n",
    "        )\n",
    "\n",
    "        sc = pyspark.SparkContext(conf=conf)\n",
    "        # read data\n",
    "        data = readFile(\"/data/botnet_tot_syn_l.csv\")\n",
    "        # standardize\n",
    "        data = normalize(data)\n",
    "    \n",
    "        num_blocks_cv = 10\n",
    "        # Shuffle rows and transform data\n",
    "        data_cv = transform(data, num_blocks_cv)\n",
    "        # optimize performance\n",
    "        data_cv_cached = data_cv.cache()\n",
    "    \n",
    "        accuracies = []\n",
    "        for i in range(num_blocks_cv):\n",
    "            tr_data, test_data = get_block_data(data_cv_cached, i)\n",
    "            # optimize performance\n",
    "            tr_data_cached = tr_data.cache()\n",
    "            test_data_cached = test_data.cache()\n",
    "            weights, bias = train(tr_data_cached, 10, 1.5, 0.05)\n",
    "            acc = accuracy(weights, bias, test_data_cached)\n",
    "            accuracies.append(acc)\n",
    "            print(\"accuracy:\", acc)\n",
    "            print(\"------------------------------------------------------\")\n",
    "        avg_acc = 0\n",
    "        for a in accuracies:\n",
    "            avg_acc += a\n",
    "        print(\"average accuracy:\", avg_acc / num_blocks_cv)\n",
    "        execution_times.append(time.time() - start_time)\n",
    "        sc.stop()\n"
   ]
  },
  {
   "cell_type": "code",
   "execution_count": 32,
   "metadata": {
    "ExecuteTime": {
     "end_time": "2023-12-17T19:55:31.855309Z",
     "start_time": "2023-12-17T19:55:31.778461Z"
    }
   },
   "outputs": [
    {
     "data": {
      "text/plain": "<Figure size 640x480 with 1 Axes>",
      "image/png": "[encoded data removed]"
     },
     "metadata": {},
     "output_type": "display_data"
    }
   ],
   "source": [
    "plt.plot([\"3\",\"9\",\"12\"], execution_times, marker='o', linestyle='-')\n",
    "plt.xlabel('Number of Workers')  # Label for x-axis\n",
    "plt.ylabel('Execution Time (s)')  # Label for y-axis\n",
    "plt.title('Execution Time vs Number of Workers')  # Title for the plot\n",
    "plt.grid(True)  # Show grid lines\n",
    "plt.show()"
   ]
  },
  {
   "cell_type": "code",
   "execution_count": 33,
   "outputs": [
    {
     "data": {
      "text/plain": "<Figure size 640x480 with 1 Axes>",
      "image/png": "[encoded data removed]"
     },
     "metadata": {},
     "output_type": "display_data"
    }
   ],
   "source": [
    "for i in range(0,len(execution_times)):\n",
    "    speed_up.append(execution_times[0]/execution_times[i])\n",
    "plt.plot([\"3\",\"9\",\"12\"], speed_up, marker='o', linestyle='-')\n",
    "plt.xlabel('Number of Workers')  # Label for x-axis\n",
    "plt.ylabel('Speed Up')  # Label for y-axis\n",
    "plt.title('Speed Up vs Number of Workers')  # Title for the plot\n",
    "plt.grid(True)  # Show grid lines\n",
    "plt.show()"
   ],
   "metadata": {
    "collapsed": false,
    "ExecuteTime": {
     "end_time": "2023-12-17T19:55:31.940173Z",
     "start_time": "2023-12-17T19:55:31.863830Z"
    }
   }
  },
  {
   "cell_type": "code",
   "execution_count": 33,
   "outputs": [],
   "source": [],
   "metadata": {
    "collapsed": false,
    "ExecuteTime": {
     "end_time": "2023-12-17T19:55:31.940303Z",
     "start_time": "2023-12-17T19:55:31.917501Z"
    }
   }
  }
 ],
 "metadata": {
  "kernelspec": {
   "display_name": "MPML",
   "language": "python",
   "name": "python3"
  },
  "language_info": {
   "codemirror_mode": {
    "name": "ipython",
    "version": 3
   },
   "file_extension": ".py",
   "mimetype": "text/x-python",
   "name": "python",
   "nbconvert_exporter": "python",
   "pygments_lexer": "ipython3",
   "version": "3.9.18"
  }
 },
 "nbformat": 4,
 "nbformat_minor": 2
}
