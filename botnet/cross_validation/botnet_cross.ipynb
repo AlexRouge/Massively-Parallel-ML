{
 "cells": [
  {
   "cell_type": "code",
   "execution_count": 1,
   "metadata": {
    "ExecuteTime": {
     "end_time": "2023-12-16T18:31:17.287964Z",
     "start_time": "2023-12-16T18:31:17.130167Z"
    }
   },
   "outputs": [],
   "source": [
    "import os\n",
    "\n",
    "from pyspark import SparkContext\n",
    "\n",
    "\n",
    "def readFile(filename):\n",
    "    \"\"\"\n",
    "    Return an RDD containing the data of filename.\n",
    "    Each example (row) of the file corresponds to one RDD record.\n",
    "    Each record of the RDD is a tuple (X,y). “X” is an array containing the 11\n",
    "    features (float number) of an example\n",
    "    “y” is the 12th column of an example (integer 0/1)\n",
    "    \"\"\"\n",
    "\n",
    "    current_directory = os.getcwd()\n",
    "    parent_directory = os.path.dirname(current_directory)\n",
    "    sc = SparkContext.getOrCreate()\n",
    "    data = sc.textFile(parent_directory + \"/\" + filename)\n",
    "    processed_data = data.map(lambda line: line.split(\",\")).map(\n",
    "        lambda cols: ([float(x) for x in cols[:11]], float(cols[11]))\n",
    "    )\n",
    "    return processed_data\n"
   ]
  },
  {
   "cell_type": "code",
   "execution_count": 2,
   "metadata": {
    "ExecuteTime": {
     "end_time": "2023-12-16T18:31:17.299549Z",
     "start_time": "2023-12-16T18:31:17.293850Z"
    }
   },
   "outputs": [],
   "source": [
    "import numpy as np\n",
    "from pyspark import SparkContext\n",
    "\n",
    "\n",
    "def normalize(RDD_Xy):\n",
    "    sc = SparkContext.getOrCreate()\n",
    "\n",
    "    number_of_samples = RDD_Xy.count()\n",
    "\n",
    "    # Function to compute sum and sum of squares for each feature\n",
    "    def compute_sum_and_squares(record):\n",
    "        X, _ = record\n",
    "        return (np.array(X), np.array(X) ** 2)\n",
    "\n",
    "    # Aggregate the sum and sum of squares for each feature, and count the examples\n",
    "    sum_squares_count = RDD_Xy.map(compute_sum_and_squares).reduce(\n",
    "        lambda a, b: (a[0] + b[0], a[1] + b[1])\n",
    "    )\n",
    "\n",
    "    # Calculate the mean and variance for each feature\n",
    "    mean = sum_squares_count[0] / number_of_samples\n",
    "    variance = (sum_squares_count[1] / number_of_samples) - mean**2\n",
    "    std_dev = np.sqrt(variance)\n",
    "\n",
    "    # Replace zeros in standard deviation with ones to avoid division by zero\n",
    "    std_dev[std_dev == 0] = 1\n",
    "\n",
    "    # Broadcast the mean and std_dev to all the nodes\n",
    "    broadcast_mean = sc.broadcast(mean)\n",
    "    broadcast_std_dev = sc.broadcast(std_dev)\n",
    "\n",
    "    # Function to normalize features\n",
    "    def normalize_features(record):\n",
    "        X, y = record\n",
    "        X_normalized = (X - broadcast_mean.value) / broadcast_std_dev.value\n",
    "        return (X_normalized, y)\n",
    "\n",
    "    # Normalize each feature and return the new RDD\n",
    "    return RDD_Xy.map(normalize_features)\n"
   ]
  },
  {
   "cell_type": "code",
   "execution_count": 3,
   "metadata": {
    "ExecuteTime": {
     "end_time": "2023-12-16T18:31:17.335723Z",
     "start_time": "2023-12-16T18:31:17.305937Z"
    }
   },
   "outputs": [],
   "source": [
    "import random\n",
    "\n",
    "\n",
    "def transform(RDD_Xy, num_blocks):\n",
    "    # Function to assign a random index to each record\n",
    "    def add_index(record):\n",
    "        # Randomly select an index between 0 and num_blocks - 1\n",
    "        index = random.randint(0, num_blocks - 1)\n",
    "        # Return a new record with the index added\n",
    "        return (record, index)\n",
    "\n",
    "    # Map each record in the RDD to include a random fold index\n",
    "    RDD_tranformed = RDD_Xy.map(add_index)\n",
    "    return RDD_tranformed\n"
   ]
  },
  {
   "cell_type": "code",
   "execution_count": 4,
   "metadata": {
    "ExecuteTime": {
     "end_time": "2023-12-16T18:31:17.346707Z",
     "start_time": "2023-12-16T18:31:17.330991Z"
    }
   },
   "outputs": [],
   "source": [
    "def get_block_data(data_cv, block_numb):\n",
    "    \"\"\"\n",
    "    Splits the input RDD into two RDDs based on the index value.\n",
    "\n",
    "    :param data_cv: An RDD where each row is a list of size 11, y, and index.\n",
    "    :param block_numb: The block number to split the RDD.\n",
    "    :return: A tuple of two RDDs (tr_data, test_data).\n",
    "    \"\"\"\n",
    "\n",
    "    # Split the data into two RDDs based on the index value\n",
    "\n",
    "    def filter_block_train(record):\n",
    "        if record[1] != block_numb:\n",
    "            return [record[0]]\n",
    "        else:\n",
    "            return []\n",
    "\n",
    "    def filter_block_test(record):\n",
    "        if record[1] == block_numb:\n",
    "            return [record[0]]\n",
    "        else:\n",
    "            return []\n",
    "\n",
    "    tr_data = data_cv.flatMap(filter_block_train)\n",
    "    test_data = data_cv.flatMap(filter_block_test)\n",
    "\n",
    "    return tr_data, test_data\n"
   ]
  },
  {
   "cell_type": "code",
   "execution_count": 5,
   "metadata": {
    "ExecuteTime": {
     "end_time": "2023-12-16T18:31:17.356594Z",
     "start_time": "2023-12-16T18:31:17.354464Z"
    }
   },
   "outputs": [],
   "source": [
    "import numpy as np\n",
    "from pyspark import SparkContext\n",
    "\n",
    "\n",
    "def train(RDD_Xy, iterations, learning_rate, lambda_reg):\n",
    "    sc = SparkContext.getOrCreate()\n",
    "\n",
    "    # Number of features (assuming all records have the same number of features)\n",
    "    k = len(RDD_Xy.first()[0])\n",
    "    m = RDD_Xy.count()  # Total number of examples\n",
    "\n",
    "    np.random.seed(0)  # For reproducibility\n",
    "    w = np.random.rand(k)  # Weight vector\n",
    "    b = np.random.rand()  # Bias term\n",
    "\n",
    "    for i in range(iterations):\n",
    "        # Broadcast weights and bias\n",
    "        broadcast_w = sc.broadcast(w)\n",
    "        broadcast_b = sc.broadcast(b)\n",
    "\n",
    "        # Compute gradients\n",
    "        gradients = RDD_Xy.map(\n",
    "            lambda x: compute_gradients(x, broadcast_w.value, broadcast_b.value, k)\n",
    "        ).reduce(lambda a, b: (a[0] + b[0], a[1] + b[1]))\n",
    "\n",
    "        # Update weights and bias\n",
    "        w -= learning_rate * ((1 / m) * gradients[0] + (lambda_reg / k) * w)\n",
    "        b -= learning_rate * (\n",
    "            (1 / m) * gradients[1] + ((lambda_reg / (2 * k)) * np.sum(w**2))\n",
    "        )\n",
    "\n",
    "        # Optional: Print cost for monitoring (not recommended for large datasets)\n",
    "        cost = RDD_Xy.map(\n",
    "            lambda x: compute_cost(x, broadcast_w.value, broadcast_b.value, k)\n",
    "        ).reduce(lambda x, y: x + y)\n",
    "        cost = (-1 / m) * cost\n",
    "        cost += (lambda_reg / (2 * k)) * np.sum(w**2)\n",
    "        \n",
    "    return w, b\n",
    "\n",
    "\n",
    "def compute_gradients(record, w, b, k):\n",
    "    X, y = record\n",
    "    z = 0\n",
    "    for i in range(k):\n",
    "        z += X[i] * w[i]\n",
    "    z += b\n",
    "    y_hat = 1 / (1 + np.exp(-z))\n",
    "    dw = (y_hat - y) * X\n",
    "    db = np.sum(y_hat - y)\n",
    "    return dw, db\n",
    "\n",
    "\n",
    "def compute_cost(record, w, b, k):\n",
    "    X, y = record\n",
    "    z = 0\n",
    "    for i in range(k):\n",
    "        z += X[i] * w[i]\n",
    "    z += b\n",
    "    y_hat = 1 / (1 + np.exp(-z))\n",
    "    cost = y * np.log(y_hat) + (1 - y) * np.log(1 - y_hat)\n",
    "    return cost\n"
   ]
  },
  {
   "cell_type": "code",
   "execution_count": 6,
   "metadata": {
    "ExecuteTime": {
     "end_time": "2023-12-16T18:31:17.363491Z",
     "start_time": "2023-12-16T18:31:17.358929Z"
    }
   },
   "outputs": [],
   "source": [
    "def accuracy(w, b, RDD_xy):\n",
    "    prediction_results = RDD_xy.map(\n",
    "        lambda record: 1 if predict(w, b, record[0]) == record[1] else 0\n",
    "    )\n",
    "\n",
    "    # Step 2: Use reduce to sum up the correct predictions\n",
    "    correctly_classified = prediction_results.reduce(lambda a, b: a + b)\n",
    "\n",
    "    # Step 4: Calculate accuracy\n",
    "    accuracy = correctly_classified / RDD_xy.count()\n",
    "    return accuracy\n"
   ]
  },
  {
   "cell_type": "code",
   "execution_count": 7,
   "metadata": {
    "ExecuteTime": {
     "end_time": "2023-12-16T18:31:17.368927Z",
     "start_time": "2023-12-16T18:31:17.364635Z"
    }
   },
   "outputs": [],
   "source": [
    "import numpy as np\n",
    "\n",
    "\n",
    "def predict(w, b, X):\n",
    "    # Initialize the sum\n",
    "    z = 0\n",
    "    # Iterate over the weights and corresponding features\n",
    "    for i in range(len(w)):\n",
    "        z += w[i] * X[i]\n",
    "        # Add the bias term\n",
    "    z += b\n",
    "\n",
    "    # compact way to calculate it z = np.dot(w, X) + b\n",
    "\n",
    "    # Apply the sigmoid function to get the probability\n",
    "    p = 1 / (1 + np.exp(-z))\n",
    "    # Predict the class label (0 or 1) based on the probability\n",
    "    if p >= 0.5:\n",
    "        return 1\n",
    "    else:\n",
    "        return 0\n"
   ]
  },
  {
   "cell_type": "code",
   "execution_count": 8,
   "metadata": {
    "ExecuteTime": {
     "end_time": "2023-12-16T18:37:16.282192Z",
     "start_time": "2023-12-16T18:31:17.370142Z"
    }
   },
   "outputs": [
    {
     "name": "stderr",
     "output_type": "stream",
     "text": [
      "23/12/16 19:31:18 WARN Utils: Your hostname, MacBook-Pro-di-Alessandro-2.local resolves to a loopback address: 127.0.0.1; using 192.168.1.152 instead (on interface en0)\n",
      "23/12/16 19:31:18 WARN Utils: Set SPARK_LOCAL_IP if you need to bind to another address\n",
      "Setting default log level to \"WARN\".\n",
      "To adjust logging level use sc.setLogLevel(newLevel). For SparkR, use setLogLevel(newLevel).\n",
      "23/12/16 19:31:18 WARN NativeCodeLoader: Unable to load native-hadoop library for your platform... using builtin-java classes where applicable\n",
      "23/12/16 19:31:23 WARN BlockManager: Task 18 already completed, not releasing lock for rdd_5_0\n",
      "23/12/16 19:31:29 WARN GarbageCollectionMetrics: To enable non-built-in garbage collector(s) List(G1 Concurrent GC), users should configure it(them) to spark.eventLog.gcMetrics.youngGenerationGarbageCollectors or spark.eventLog.gcMetrics.oldGenerationGarbageCollectors\n",
      "                                                                                \r"
     ]
    },
    {
     "name": "stdout",
     "output_type": "stream",
     "text": [
      "accuracy: 0.9324211197703853\n",
      "------------------------------------------------------\n"
     ]
    },
    {
     "name": "stderr",
     "output_type": "stream",
     "text": [
      "23/12/16 19:31:42 WARN BlockManager: Task 226 already completed, not releasing lock for rdd_31_0\n",
      "                                                                                \r"
     ]
    },
    {
     "name": "stdout",
     "output_type": "stream",
     "text": [
      "accuracy: 0.9294688010193923\n",
      "------------------------------------------------------\n"
     ]
    },
    {
     "name": "stderr",
     "output_type": "stream",
     "text": [
      "23/12/16 19:32:00 WARN BlockManager: Task 434 already completed, not releasing lock for rdd_57_0\n",
      "                                                                                \r"
     ]
    },
    {
     "name": "stdout",
     "output_type": "stream",
     "text": [
      "accuracy: 0.9310310370325959\n",
      "------------------------------------------------------\n"
     ]
    },
    {
     "name": "stderr",
     "output_type": "stream",
     "text": [
      "23/12/16 19:32:18 WARN BlockManager: Task 642 already completed, not releasing lock for rdd_83_0\n",
      "                                                                                \r"
     ]
    },
    {
     "name": "stdout",
     "output_type": "stream",
     "text": [
      "accuracy: 0.9312719620616398\n",
      "------------------------------------------------------\n"
     ]
    },
    {
     "name": "stderr",
     "output_type": "stream",
     "text": [
      "23/12/16 19:32:35 WARN BlockManager: Task 850 already completed, not releasing lock for rdd_109_0\n",
      "                                                                                \r"
     ]
    },
    {
     "name": "stdout",
     "output_type": "stream",
     "text": [
      "accuracy: 0.9306159329350936\n",
      "------------------------------------------------------\n"
     ]
    },
    {
     "name": "stderr",
     "output_type": "stream",
     "text": [
      "23/12/16 19:32:53 WARN BlockManager: Task 1058 already completed, not releasing lock for rdd_135_0\n",
      "                                                                                \r"
     ]
    },
    {
     "name": "stdout",
     "output_type": "stream",
     "text": [
      "accuracy: 0.930727604317192\n",
      "------------------------------------------------------\n"
     ]
    },
    {
     "name": "stderr",
     "output_type": "stream",
     "text": [
      "23/12/16 19:33:11 WARN BlockManager: Task 1266 already completed, not releasing lock for rdd_161_0\n",
      "                                                                                \r"
     ]
    },
    {
     "name": "stdout",
     "output_type": "stream",
     "text": [
      "accuracy: 0.9310630070362176\n",
      "------------------------------------------------------\n"
     ]
    },
    {
     "name": "stderr",
     "output_type": "stream",
     "text": [
      "23/12/16 19:33:28 WARN BlockManager: Task 1474 already completed, not releasing lock for rdd_187_0\n",
      "                                                                                \r"
     ]
    },
    {
     "name": "stdout",
     "output_type": "stream",
     "text": [
      "accuracy: 0.9307931804302776\n",
      "------------------------------------------------------\n"
     ]
    },
    {
     "name": "stderr",
     "output_type": "stream",
     "text": [
      "23/12/16 19:33:45 WARN BlockManager: Task 1682 already completed, not releasing lock for rdd_213_0\n",
      "                                                                                \r"
     ]
    },
    {
     "name": "stdout",
     "output_type": "stream",
     "text": [
      "accuracy: 0.9310925549084275\n",
      "------------------------------------------------------\n"
     ]
    },
    {
     "name": "stderr",
     "output_type": "stream",
     "text": [
      "23/12/16 19:34:03 WARN BlockManager: Task 1890 already completed, not releasing lock for rdd_239_0\n",
      "                                                                                \r"
     ]
    },
    {
     "name": "stdout",
     "output_type": "stream",
     "text": [
      "accuracy: 0.9314384117099348\n",
      "------------------------------------------------------\n",
      "average accuracy: 0.9309923611221157\n"
     ]
    },
    {
     "name": "stderr",
     "output_type": "stream",
     "text": [
      "23/12/16 19:34:24 WARN BlockManager: Task 18 already completed, not releasing lock for rdd_5_0\n",
      "                                                                                \r"
     ]
    },
    {
     "name": "stdout",
     "output_type": "stream",
     "text": [
      "accuracy: 0.9316718173661649\n",
      "------------------------------------------------------\n"
     ]
    },
    {
     "name": "stderr",
     "output_type": "stream",
     "text": [
      "23/12/16 19:34:42 WARN BlockManager: Task 226 already completed, not releasing lock for rdd_31_0\n",
      "                                                                                \r"
     ]
    },
    {
     "name": "stdout",
     "output_type": "stream",
     "text": [
      "accuracy: 0.9291648404191736\n",
      "------------------------------------------------------\n"
     ]
    },
    {
     "name": "stderr",
     "output_type": "stream",
     "text": [
      "23/12/16 19:34:59 WARN BlockManager: Task 434 already completed, not releasing lock for rdd_57_0\n",
      "                                                                                \r"
     ]
    },
    {
     "name": "stdout",
     "output_type": "stream",
     "text": [
      "accuracy: 0.9309044596207267\n",
      "------------------------------------------------------\n"
     ]
    },
    {
     "name": "stderr",
     "output_type": "stream",
     "text": [
      "23/12/16 19:35:16 WARN BlockManager: Task 642 already completed, not releasing lock for rdd_83_0\n",
      "                                                                                \r"
     ]
    },
    {
     "name": "stdout",
     "output_type": "stream",
     "text": [
      "accuracy: 0.9315552441953563\n",
      "------------------------------------------------------\n"
     ]
    },
    {
     "name": "stderr",
     "output_type": "stream",
     "text": [
      "23/12/16 19:35:32 WARN BlockManager: Task 850 already completed, not releasing lock for rdd_109_0\n",
      "                                                                                \r"
     ]
    },
    {
     "name": "stdout",
     "output_type": "stream",
     "text": [
      "accuracy: 0.9318983874353924\n",
      "------------------------------------------------------\n"
     ]
    },
    {
     "name": "stderr",
     "output_type": "stream",
     "text": [
      "23/12/16 19:35:49 WARN BlockManager: Task 1058 already completed, not releasing lock for rdd_135_0\n",
      "                                                                                \r"
     ]
    },
    {
     "name": "stdout",
     "output_type": "stream",
     "text": [
      "accuracy: 0.9288846960588513\n",
      "------------------------------------------------------\n"
     ]
    },
    {
     "name": "stderr",
     "output_type": "stream",
     "text": [
      "23/12/16 19:36:06 WARN BlockManager: Task 1266 already completed, not releasing lock for rdd_161_0\n",
      "                                                                                \r"
     ]
    },
    {
     "name": "stdout",
     "output_type": "stream",
     "text": [
      "accuracy: 0.9315750959813149\n",
      "------------------------------------------------------\n"
     ]
    },
    {
     "name": "stderr",
     "output_type": "stream",
     "text": [
      "23/12/16 19:36:24 WARN BlockManager: Task 1474 already completed, not releasing lock for rdd_187_0\n",
      "                                                                                \r"
     ]
    },
    {
     "name": "stdout",
     "output_type": "stream",
     "text": [
      "accuracy: 0.9311004114155297\n",
      "------------------------------------------------------\n"
     ]
    },
    {
     "name": "stderr",
     "output_type": "stream",
     "text": [
      "23/12/16 19:36:41 WARN BlockManager: Task 1682 already completed, not releasing lock for rdd_213_0\n",
      "                                                                                \r"
     ]
    },
    {
     "name": "stdout",
     "output_type": "stream",
     "text": [
      "accuracy: 0.9325182060567472\n",
      "------------------------------------------------------\n"
     ]
    },
    {
     "name": "stderr",
     "output_type": "stream",
     "text": [
      "23/12/16 19:36:58 WARN BlockManager: Task 1890 already completed, not releasing lock for rdd_239_0\n",
      "                                                                                \r"
     ]
    },
    {
     "name": "stdout",
     "output_type": "stream",
     "text": [
      "accuracy: 0.9307073520130631\n",
      "------------------------------------------------------\n",
      "average accuracy: 0.9309980510562319\n"
     ]
    }
   ],
   "source": [
    "import os\n",
    "import sys\n",
    "\n",
    "import time\n",
    "import pyspark\n",
    "import matplotlib.pyplot as plt\n",
    "from pyspark import SparkContext\n",
    "\n",
    "\n",
    "if __name__ == \"__main__\":\n",
    "    os.environ[\"PYSPARK_PYTHON\"] = sys.executable\n",
    "    os.environ[\"PYSPARK_DRIVER_PYTHON\"] = sys.executable\n",
    "\n",
    "    execution_times = []\n",
    "    speed_up = []\n",
    "    for i in [12,15]:\n",
    "        start_time = time.time()\n",
    "        number_cores = i\n",
    "        conf = (\n",
    "            pyspark.SparkConf()\n",
    "            .setMaster('local[{}]'.format(number_cores))\n",
    "        )\n",
    "\n",
    "        sc = pyspark.SparkContext(conf=conf)\n",
    "        # read data\n",
    "        data = readFile(\"/data/botnet_tot_syn_l.csv\")\n",
    "        # standardize\n",
    "        data = normalize(data)\n",
    "    \n",
    "        num_blocks_cv = 10\n",
    "        # Shuffle rows and transfrom data\n",
    "        data_cv = transform(data, num_blocks_cv)\n",
    "        # optimize performance\n",
    "        data_cv_cached = data_cv.cache()\n",
    "    \n",
    "        accuracies = []\n",
    "        for i in range(num_blocks_cv):\n",
    "            tr_data, test_data = get_block_data(data_cv_cached, i)\n",
    "            # optimize performance\n",
    "            tr_data_cached = tr_data.cache()\n",
    "            test_data_cached = test_data.cache()\n",
    "            weights, bias = train(tr_data_cached, 10, 1.5, 0.05)\n",
    "            acc = accuracy(weights, bias, test_data_cached)\n",
    "            accuracies.append(acc)\n",
    "            print(\"accuracy:\", acc)\n",
    "            print(\"------------------------------------------------------\")\n",
    "        avg_acc = 0\n",
    "        for a in accuracies:\n",
    "            avg_acc += a\n",
    "        print(\"average accuracy:\", avg_acc / num_blocks_cv)\n",
    "        execution_times.append(time.time() - start_time)\n",
    "        sc.stop()\n",
    "    num_workers = list(range(1, len(execution_times)+1))\n"
   ]
  },
  {
   "cell_type": "code",
   "execution_count": 9,
   "metadata": {
    "ExecuteTime": {
     "end_time": "2023-12-16T18:37:16.417920Z",
     "start_time": "2023-12-16T18:37:16.286611Z"
    }
   },
   "outputs": [
    {
     "data": {
      "text/plain": "<Figure size 640x480 with 1 Axes>",
      "image/png": "[encoded data removed]"
     },
     "metadata": {},
     "output_type": "display_data"
    }
   ],
   "source": [
    "plt.plot(num_workers, execution_times, marker='o', linestyle='-')\n",
    "plt.xlabel('Number of Workers')  # Label for x-axis\n",
    "plt.ylabel('Execution Time (s)')  # Label for y-axis\n",
    "plt.title('Execution Time vs Number of Workers')  # Title for the plot\n",
    "plt.grid(True)  # Show grid lines\n",
    "plt.show()"
   ]
  },
  {
   "cell_type": "code",
   "execution_count": 10,
   "outputs": [
    {
     "data": {
      "text/plain": "<Figure size 640x480 with 1 Axes>",
      "image/png": "[encoded data removed]"
     },
     "metadata": {},
     "output_type": "display_data"
    }
   ],
   "source": [
    "for i in range(0,len(execution_times)):\n",
    "    speed_up.append(execution_times[0]/execution_times[i])\n",
    "plt.plot(num_workers, speed_up, marker='o', linestyle='-')\n",
    "plt.xlabel('Number of Workers')  # Label for x-axis\n",
    "plt.ylabel('Speed Up')  # Label for y-axis\n",
    "plt.title('Speed Up vs Number of Workers')  # Title for the plot\n",
    "plt.grid(True)  # Show grid lines\n",
    "plt.show()"
   ],
   "metadata": {
    "collapsed": false,
    "ExecuteTime": {
     "end_time": "2023-12-16T18:37:16.498877Z",
     "start_time": "2023-12-16T18:37:16.465823Z"
    }
   }
  }
 ],
 "metadata": {
  "kernelspec": {
   "display_name": "MPML",
   "language": "python",
   "name": "python3"
  },
  "language_info": {
   "codemirror_mode": {
    "name": "ipython",
    "version": 3
   },
   "file_extension": ".py",
   "mimetype": "text/x-python",
   "name": "python",
   "nbconvert_exporter": "python",
   "pygments_lexer": "ipython3",
   "version": "3.9.18"
  }
 },
 "nbformat": 4,
 "nbformat_minor": 2
}
